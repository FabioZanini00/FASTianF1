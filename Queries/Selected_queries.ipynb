{
 "cells": [
  {
   "cell_type": "markdown",
   "metadata": {},
   "source": [
    "## Queries on FASTianF1 graph"
   ]
  },
  {
   "cell_type": "markdown",
   "metadata": {},
   "source": [
    "# 1: Complete names of the 20 drivers with the most pit stops made with a single constructor"
   ]
  },
  {
   "cell_type": "code",
   "execution_count": null,
   "metadata": {},
   "outputs": [],
   "source": [
    "PREFIX : <https://www.dei.unipd.it/db2/groupProject/FASTianF1#>\n",
    "SELECT ?name (?cname AS ?constructorName) (SUM(?maxNumb) AS ?totalPitStops) WHERE{\n",
    "    {\n",
    "        SELECT ?partecipation ?name ?cname (MAX(?numb) AS ?maxNumb) WHERE { \n",
    "            ?driver :hasForename ?fname ;\n",
    "                    :hasSurname ?sname .\n",
    "            ?partecipation :hasDriver ?driver ;\n",
    "                           :hasPitStop ?stop ;\n",
    "                           :hasConstructor ?constructor .\n",
    "            ?constructor :hasName ?cname .\n",
    "            ?stop :hasStopNumber ?numb .\n",
    "            BIND(CONCAT(?fname, \" \", ?sname) AS ?name).\n",
    "        }\n",
    "        GROUP BY ?partecipation ?name ?cname\n",
    "    }\n",
    "}\n",
    "GROUP BY ?name ?cname\n",
    "ORDER BY DESC(?totalPitStops)\n",
    "LIMIT 20"
   ]
  },
  {
   "cell_type": "markdown",
   "metadata": {},
   "source": [
    "# 2: Most payed driver of 2023 season"
   ]
  },
  {
   "cell_type": "code",
   "execution_count": null,
   "metadata": {},
   "outputs": [],
   "source": [
    "PREFIX : <https://www.dei.unipd.it/db2/groupProject/FASTianF1#>\n",
    "PREFIX xsd: <http://www.w3.org/2001/XMLSchema#>\n",
    "SELECT ?name (MAX(?sal) as ?salary) WHERE {\n",
    "    ?season :hasYear \"2023\"^^xsd:integer;\n",
    "            a :Season.\n",
    "    ?rating :inSeason ?season;\n",
    "            :hasDriver ?driver;\n",
    "            :hasSalary ?sal;\n",
    "          \ta :Rating.\n",
    "    ?driver a :Driver;\n",
    "            :hasForename ?fname;\n",
    "            :hasSurname ?sname.\n",
    "    BIND(CONCAT(?fname, \" \", ?sname) AS ?name).\n",
    "}\n",
    "GROUP BY (?name)\n",
    "ORDER BY DESC (?salary)"
   ]
  },
  {
   "cell_type": "markdown",
   "metadata": {},
   "source": [
    "# 3: All the english (Great Britain) drivers who won an english grand prix, driving an english car, ordered by number of wins"
   ]
  },
  {
   "cell_type": "code",
   "execution_count": null,
   "metadata": {},
   "outputs": [],
   "source": [
    "PREFIX : <https://www.dei.unipd.it/db2/groupProject/FASTianF1#>\n",
    "PREFIX xsd: <http://www.w3.org/2001/XMLSchema#>\n",
    "PREFIX countries: <http://eulersharp.sourceforge.net/2003/03swap/countries#>\n",
    "SELECT ?name (COUNT(?name) as ?numOfWins) ?consName WHERE { \n",
    "    ?race :hasCircuit ?circuit;\n",
    "          a :Race.\n",
    "    ?circuit :hasLocation ?location;\n",
    "             a :Circuit.\n",
    "    ?location :hasCountry countries:gb;\n",
    "              a :Location.\n",
    "    ?racePart :partecipatedInRace ?race;\n",
    "              :hasPositionOrder \"1\"^^xsd:integer;\n",
    "              :hasConstructor ?constructor;\n",
    "              :hasDriver ?driver.\n",
    "    ?constructor a :Constructor;\n",
    "                 :hasName ?consName;\n",
    "                 :hasNation countries:gb.\n",
    "    ?driver a :Driver;\n",
    "            :hasNation countries:gb;\n",
    "            :hasForename ?fname;\n",
    "            :hasSurname ?sname.\n",
    "    BIND(CONCAT(?fname, \" \", ?sname) AS ?name).\n",
    "} GROUP BY ?name ?consName\n",
    "ORDER BY DESC (?numOfWins)"
   ]
  },
  {
   "cell_type": "markdown",
   "metadata": {},
   "source": [
    "# 4: The 5 most winning drivers in F1 history, ordered by number of grand prix wins"
   ]
  },
  {
   "cell_type": "code",
   "execution_count": null,
   "metadata": {},
   "outputs": [],
   "source": [
    "PREFIX : <https://www.dei.unipd.it/db2/groupProject/FASTianF1#>\n",
    "PREFIX xsd: <http://www.w3.org/2001/XMLSchema#>\n",
    "SELECT ?name (COUNT(?name) as ?numOfWins) WHERE { \n",
    "    ?race :hasCircuit ?circuit;\n",
    "          a :Race.\n",
    "    ?racePart :partecipatedInRace ?race;\n",
    "              :hasPositionOrder \"1\"^^xsd:integer;\n",
    "              :hasDriver ?driver.\n",
    "    ?driver a :Driver;\n",
    "            :hasForename ?fname;\n",
    "            :hasSurname ?sname.\n",
    "    BIND(CONCAT(?fname, \" \", ?sname) AS ?name).\n",
    "} GROUP BY ?name\n",
    "ORDER BY DESC (?numOfWins)\n",
    "LIMIT 5"
   ]
  },
  {
   "cell_type": "markdown",
   "metadata": {},
   "source": [
    "# 5: Circuits ordered by number of accidents in races in history"
   ]
  },
  {
   "cell_type": "code",
   "execution_count": null,
   "metadata": {},
   "outputs": [],
   "source": [
    "PREFIX : <https://www.dei.unipd.it/db2/groupProject/FASTianF1#>\n",
    "SELECT ?circuitName (COUNT(?circuitName) AS ?numberOfAccidents) WHERE{\n",
    "    ?racePart a :RacePartecipation;\n",
    "          :partecipatedInRace ?race;\n",
    "          :hasStatus ?stat.\n",
    "    ?stat a :Status;\n",
    "          :hasName \"Accident\".\n",
    "    ?race a :Race;\n",
    "          :hasCircuit ?circ.\n",
    "    ?circ a :Circuit;\n",
    "          :hasName ?circuitName.\n",
    "}\n",
    "GROUP BY (?circuitName)\n",
    "ORDER BY DESC (?numberOfAccidents)"
   ]
  },
  {
   "cell_type": "markdown",
   "metadata": {},
   "source": [
    "# 6: Data about fastest qualifying laps in F1 history (both q1, q2 and q3)"
   ]
  },
  {
   "cell_type": "code",
   "execution_count": null,
   "metadata": {},
   "outputs": [],
   "source": [
    "PREFIX : <https://www.dei.unipd.it/db2/groupProject/FASTianF1#>\n",
    "PREFIX xsd: <http://www.w3.org/2001/XMLSchema#>\n",
    "SELECT ?driversName ?qTime ?circuitName ?raceName WHERE {\n",
    "    {\n",
    "        ?qualPart :hasQ3Time ?qTime.\n",
    "    }\n",
    "    UNION\n",
    "    {\n",
    "        ?qualPart :hasQ2Time ?qTime.\n",
    "    }\n",
    "    UNION\n",
    "    {\n",
    "        ?qualPart :hasQ1Time ?qTime.\n",
    "    }\n",
    "    ?qualPart :hasDriver ?driver;\n",
    "              :partecipatedInQualif ?quali;\n",
    "              a :QualifPartecipation.\n",
    "    ?quali a :Qualifying.\n",
    "    ?race a :Race;\n",
    "          :hasA ?quali;\n",
    "          :hasName ?raceName;\n",
    "          :hasCircuit ?circ.\n",
    "    ?circ a :Circuit;\n",
    "             :hasName ?circuitName.\n",
    "    ?driver a :Driver;\n",
    "            :hasForename ?fname;\n",
    "            :hasSurname ?sname.\n",
    "    BIND(CONCAT(?fname, \" \", ?sname) AS ?driversName).\n",
    "    FILTER(?qTime != \"00:00:00\"^^xsd:time)\n",
    "}\n",
    "ORDER BY (?qTime)\n",
    "LIMIT 100"
   ]
  },
  {
   "cell_type": "markdown",
   "metadata": {},
   "source": [
    "# 7: Information regarding the youngest drivers who have won races, in order of age"
   ]
  },
  {
   "cell_type": "code",
   "execution_count": null,
   "metadata": {},
   "outputs": [],
   "source": [
    "PREFIX : <https://www.dei.unipd.it/db2/groupProject/FASTianF1#>\n",
    "PREFIX xsd: <http://www.w3.org/2001/XMLSchema#>\n",
    "SELECT ?fullName ?age (COUNT(?pos) AS ?wins) (GROUP_CONCAT(DISTINCT YEAR(?raceDate) ; separator=\",\") AS ?year) (GROUP_CONCAT(DISTINCT ?circName ; separator=\",\") AS ?circuitNames) WHERE{\n",
    "    ?part :hasDriver ?driver ;\n",
    "          :hasPosition ?pos ;\n",
    "              :partecipatedInRace ?race .\n",
    "    ?race :hasDate ?raceDate ;\n",
    "          :hasCircuit ?circ .\n",
    "    ?circ :hasName ?circName .\n",
    "    ?driver :hasDateOfBirth ?dob ;\n",
    "            :hasForename ?fname ;\n",
    "            :hasSurname ?lname .\n",
    "    BIND(CONCAT(?fname, \" \", ?lname) AS ?fullName)\n",
    "    BIND((YEAR(?raceDate) - YEAR(?dob)) AS ?age)\n",
    "    FILTER(?pos = 1 && ?age < 26)\n",
    "}\n",
    "GROUP BY ?fullName ?age\n",
    "ORDER BY ASC (?age)"
   ]
  },
  {
   "cell_type": "markdown",
   "metadata": {},
   "source": [
    "# 8: Constructors with most wins in the constructors' championship"
   ]
  },
  {
   "cell_type": "code",
   "execution_count": null,
   "metadata": {},
   "outputs": [],
   "source": [
    "PREFIX : <https://www.dei.unipd.it/db2/groupProject/FASTianF1#>\n",
    "SELECT ?name (COUNT(?name) AS ?totalWins) (GROUP_CONCAT(DISTINCT ?outerYear ; separator=\",\") AS ?years) WHERE{\n",
    "    {\n",
    "        SELECT ?name ?race (AVG(?pos) AS ?finalPosition) ?outerYear WHERE{\n",
    "            ?stand :hasRace ?race ;\n",
    "                   :hasConstructor ?cons ;\n",
    "                   :hasTotalPosition ?pos .\n",
    "            ?race :hasRound ?outerRound ;\n",
    "                  :inSeason ?outerSeason .\n",
    "            ?outerSeason :hasYear ?outerYear .\n",
    "            ?cons :hasName ?name .\n",
    "            FILTER(?outerRound = ?maxRound && ?outerYear = ?year && ?pos = 1)\n",
    "            {\n",
    "                SELECT ?year (MAX(?round) AS ?maxRound) WHERE {\n",
    "                    ?race :inSeason ?season ;\n",
    "                          :hasRound ?round .\n",
    "                    ?season :hasYear ?year .\n",
    "                }\n",
    "                GROUP BY ?year\n",
    "            }\n",
    "        }\n",
    "        GROUP BY ?name ?race ?outerYear\n",
    "        ORDER BY (?outerYear)\n",
    "    }\n",
    "}\n",
    "GROUP BY ?name\n",
    "ORDER BY DESC (?totalWins)"
   ]
  },
  {
   "cell_type": "markdown",
   "metadata": {},
   "source": [
    "# 9: Are drivers who won the championship after 2000 older than those who won it before 2000, on average?"
   ]
  },
  {
   "cell_type": "code",
   "execution_count": null,
   "metadata": {},
   "outputs": [],
   "source": [
    "PREFIX : <https://www.dei.unipd.it/db2/groupProject/FASTianF1#>\n",
    "ASK WHERE{\n",
    "    {\n",
    "        SELECT (AVG(?age) as ?avgOldAge) WHERE{\n",
    "            ?stand :hasRace ?race ;\n",
    "                   :hasDriver ?driv ;\n",
    "                   :hasTotalPosition ?pos .\n",
    "            ?driv :hasDateOfBirth ?dob .\n",
    "            ?race :hasDate ?raceDate ;\n",
    "                  :inSeason ?outerSeason ;\n",
    "                  :hasRound ?outerRound .\n",
    "            ?outerSeason :hasYear ?outerYear .\n",
    "            BIND((YEAR(?raceDate) - YEAR(?dob)) AS ?age)\n",
    "            FILTER(?outerRound = ?maxRound && ?outerYear = ?year && ?pos = 1)\n",
    "            {\n",
    "                SELECT ?year (MAX(?round) AS ?maxRound) WHERE {\n",
    "                    ?race :inSeason ?season ;\n",
    "                          :hasRound ?round .\n",
    "                    ?season :hasYear ?year .\n",
    "                    FILTER(?year < 2000)\n",
    "                }\n",
    "                GROUP BY ?year\n",
    "            }\n",
    "        }\n",
    "    }\n",
    "    {\n",
    "        SELECT (AVG(?age) as ?avgRecentAge) WHERE{\n",
    "            ?stand :hasRace ?race ;\n",
    "                   :hasDriver ?driv ;\n",
    "                   :hasTotalPosition ?pos .\n",
    "            ?driv :hasDateOfBirth ?dob .\n",
    "            ?race :hasDate ?raceDate ;\n",
    "                  :inSeason ?outerSeason ;\n",
    "                  :hasRound ?outerRound .\n",
    "            ?outerSeason :hasYear ?outerYear .\n",
    "            BIND((YEAR(?raceDate) - YEAR(?dob)) AS ?age)\n",
    "            FILTER(?outerRound = ?maxRound && ?outerYear = ?year && ?pos = 1)\n",
    "            {\n",
    "                SELECT ?year (MAX(?round) AS ?maxRound) WHERE {\n",
    "                    ?race :inSeason ?season ;\n",
    "                          :hasRound ?round .\n",
    "                    ?season :hasYear ?year .\n",
    "                    FILTER(?year >= 2000)\n",
    "                }\n",
    "                GROUP BY ?year\n",
    "            }\n",
    "        }\n",
    "    }\n",
    "    FILTER(?avgRecentAge > ?avgOldAge)\n",
    "}"
   ]
  },
  {
   "cell_type": "markdown",
   "metadata": {},
   "source": [
    "# 10: Winners of driver's championship and constructor's championship for each season."
   ]
  },
  {
   "cell_type": "code",
   "execution_count": null,
   "metadata": {},
   "outputs": [],
   "source": [
    "PREFIX : <https://www.dei.unipd.it/db2/groupProject/FASTianF1#>\n",
    "SELECT ?outerYear ?driverName ?constructorName WHERE{\n",
    "    ?driverStand :hasTotalPosition ?pos ;\n",
    "                 :hasRace ?race ;\n",
    "                 :hasDriver ?driver .\n",
    "    ?constStand :hasTotalPosition ?pos ;\n",
    "                :hasRace ?race ;\n",
    "                :hasConstructor ?const .\n",
    "    ?race :hasRound ?outerRound ;\n",
    "          :inSeason ?season .\n",
    "    ?season :hasYear ?outerYear .\n",
    "    ?driver :hasForename ?fname ;\n",
    "            :hasSurname ?sname .\n",
    "    ?const :hasName ?constructorName .\n",
    "    BIND(CONCAT(?fname, \" \", ?sname) AS ?driverName).\n",
    "    FILTER(?outerRound = ?maxRound && ?outerYear = ?year && ?pos = 1)\n",
    "    {\n",
    "        SELECT ?year (MAX(?round) AS ?maxRound) WHERE {\n",
    "            ?race :inSeason ?season ;\n",
    "                  :hasRound ?round .\n",
    "            ?season :hasYear ?year .\n",
    "        }\n",
    "        GROUP BY ?year\n",
    "    }\n",
    "}\n",
    "ORDER BY DESC (?outerYear)"
   ]
  }
 ],
 "metadata": {
  "kernelspec": {
   "display_name": "Python 3 (ipykernel)",
   "language": "python",
   "name": "python3"
  },
  "language_info": {
   "codemirror_mode": {
    "name": "ipython",
    "version": 3
   },
   "file_extension": ".py",
   "mimetype": "text/x-python",
   "name": "python",
   "nbconvert_exporter": "python",
   "pygments_lexer": "ipython3",
   "version": "3.11.5"
  }
 },
 "nbformat": 4,
 "nbformat_minor": 2
}
