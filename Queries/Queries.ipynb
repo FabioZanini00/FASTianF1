{
 "cells": [
  {
   "cell_type": "markdown",
   "id": "53be7327",
   "metadata": {},
   "source": [
    "# 1.1: Final 2022 season driver's classification"
   ]
  },
  {
   "cell_type": "code",
   "execution_count": null,
   "id": "28c5bc6e",
   "metadata": {},
   "outputs": [],
   "source": [
    "PREFIX : <https://www.dei.unipd.it/db2/groupProject/FASTianF1#>\n",
    "PREFIX xsd: <http://www.w3.org/2001/XMLSchema#>\n",
    "SELECT ?name (MAX(?totPoints) AS ?finalPoints) WHERE {\n",
    "    ?season :hasYear \"2022\"^^xsd:integer;\n",
    "            a :Season.\n",
    "    ?race :inSeason ?season;\n",
    "          a :Race.\n",
    "    ?drivStanding a :DriverStanding;\n",
    "                  :hasTotalPoints ?totPoints;\n",
    "                  :hasDriver ?driver;\n",
    "                  :hasRace ?race.\n",
    "    ?driver a :Driver;\n",
    "            :hasForename ?fname;\n",
    "            :hasSurname ?sname.\n",
    "    BIND(CONCAT(?fname, \" \", ?sname) AS ?name).\n",
    "}\n",
    "GROUP BY (?name)\n",
    "ORDER BY DESC (?finalPoints)"
   ]
  },
  {
   "cell_type": "markdown",
   "id": "115e7ea8",
   "metadata": {},
   "source": [
    "# 1.2: Final 2022 season constructor's classification"
   ]
  },
  {
   "cell_type": "code",
   "execution_count": null,
   "id": "1f94106e",
   "metadata": {},
   "outputs": [],
   "source": [
    "PREFIX : <https://www.dei.unipd.it/db2/groupProject/FASTianF1#>\n",
    "PREFIX xsd: <http://www.w3.org/2001/XMLSchema#>\n",
    "SELECT ?name (MAX(?totPoints) AS ?finalPoints) WHERE {\n",
    "    ?season :hasYear \"2022\"^^xsd:integer;\n",
    "            a :Season.\n",
    "    ?race :inSeason ?season;\n",
    "          a :Race.\n",
    "    ?consStanding a :ConstructorStanding;\n",
    "                  :hasTotalPoints ?totPoints;\n",
    "                  :hasConstructor ?constructor;\n",
    "                  :hasRace ?race.\n",
    "    ?constructor :hasName ?name;\n",
    "                 a :Constructor.\n",
    "}\n",
    "GROUP BY (?name)\n",
    "ORDER BY DESC (?finalPoints)"
   ]
  },
  {
   "cell_type": "markdown",
   "id": "5e77a5ec",
   "metadata": {},
   "source": [
    "# 2: Complete name of the driver winner of 2021 season"
   ]
  },
  {
   "cell_type": "code",
   "execution_count": null,
   "id": "d36bc5d3",
   "metadata": {},
   "outputs": [],
   "source": [
    "PREFIX : <https://www.dei.unipd.it/db2/groupProject/FASTianF1#>\n",
    "PREFIX xsd: <http://www.w3.org/2001/XMLSchema#>\n",
    "SELECT (?name AS ?2021winnersName) WHERE {\n",
    "    {\n",
    "        SELECT ?name (MAX(?totPoints) AS ?finalPoints) WHERE {\n",
    "            ?season :hasYear \"2021\"^^xsd:integer;\n",
    "                    a :Season.\n",
    "            ?race :inSeason ?season;\n",
    "                  a :Race.\n",
    "            ?drivStanding a :DriverStanding;\n",
    "                    :hasTotalPoints ?totPoints;\n",
    "                    :hasDriver ?driver;\n",
    "                    :hasRace ?race.\n",
    "            ?driver :hasForename ?fname;\n",
    "                    :hasSurname ?sname;\n",
    "                    a :Driver.\n",
    "            BIND(CONCAT(?fname, \" \", ?sname) AS ?name).\n",
    "        }\n",
    "        GROUP BY (?name)\n",
    "        ORDER BY DESC (?finalPoints)\n",
    "    }\n",
    "} \n",
    "LIMIT 1"
   ]
  },
  {
   "cell_type": "markdown",
   "id": "b9665a92",
   "metadata": {},
   "source": [
    "# 3: Complete names of the 20 drivers with the most pit stops made with a single constructor"
   ]
  },
  {
   "cell_type": "code",
   "execution_count": null,
   "id": "2d78af76",
   "metadata": {},
   "outputs": [],
   "source": [
    "PREFIX : <https://www.dei.unipd.it/db2/groupProject/FASTianF1#>\n",
    "SELECT ?name (?cname AS ?constructorName) (SUM(?maxNumb) AS ?totalPitStops) WHERE{\n",
    "    {\n",
    "        SELECT ?partecipation ?name ?cname (MAX(?numb) AS ?maxNumb) WHERE { \n",
    "            ?driver :hasForename ?fname ;\n",
    "                    :hasSurname ?sname .\n",
    "            ?partecipation :hasDriver ?driver ;\n",
    "                           :hasPitStop ?stop ;\n",
    "                           :hasConstructor ?constructor .\n",
    "            ?constructor :hasName ?cname .\n",
    "            ?stop :hasStopNumber ?numb .\n",
    "            BIND(CONCAT(?fname, \" \", ?sname) AS ?name).\n",
    "        }\n",
    "        GROUP BY ?partecipation ?name ?cname\n",
    "    }\n",
    "}\n",
    "GROUP BY ?name ?cname\n",
    "ORDER BY DESC(?totalPitStops)\n",
    "LIMIT 20"
   ]
  },
  {
   "cell_type": "markdown",
   "id": "ed435bc8",
   "metadata": {},
   "source": [
    "# 4: Most payed driver of 2023 season"
   ]
  },
  {
   "cell_type": "code",
   "execution_count": null,
   "id": "99ae3589",
   "metadata": {},
   "outputs": [],
   "source": [
    "PREFIX : <https://www.dei.unipd.it/db2/groupProject/FASTianF1#>\n",
    "PREFIX xsd: <http://www.w3.org/2001/XMLSchema#>\n",
    "SELECT ?name (MAX(?sal) as ?salary) WHERE {\n",
    "    ?season :hasYear \"2023\"^^xsd:integer;\n",
    "            a :Season.\n",
    "    ?rating :inSeason ?season;\n",
    "            :hasDriver ?driver;\n",
    "            :hasSalary ?sal;\n",
    "            a :Rating.\n",
    "    ?driver a :Driver;\n",
    "            :hasForename ?fname;\n",
    "            :hasSurname ?sname.\n",
    "    BIND(CONCAT(?fname, \" \", ?sname) AS ?name).\n",
    "}\n",
    "GROUP BY (?name)\n",
    "ORDER BY DESC (?salary)"
   ]
  },
  {
   "cell_type": "markdown",
   "id": "44e2545f",
   "metadata": {},
   "source": [
    "# 5: Winner of 2021 Monza grand prix"
   ]
  },
  {
   "cell_type": "code",
   "execution_count": null,
   "id": "45b71de3",
   "metadata": {},
   "outputs": [],
   "source": [
    "PREFIX : <https://www.dei.unipd.it/db2/groupProject/FASTianF1#>\n",
    "PREFIX xsd: <http://www.w3.org/2001/XMLSchema#>\n",
    "SELECT ?name WHERE { \n",
    "    ?season :hasYear \"2021\"^^xsd:integer;\n",
    "            a :Season.\n",
    "    ?race :inSeason ?season;\n",
    "          :hasCircuit ?circuit;\n",
    "          a :Race.\n",
    "    ?circuit :hasName \"Autodromo Nazionale di Monza\";\n",
    "             a :Circuit.\n",
    "    ?racePart :partecipatedInRace ?race;\n",
    "              :hasPositionOrder \"1\"^^xsd:integer;\n",
    "              :hasDriver ?driver.\n",
    "    ?driver a :Driver;\n",
    "            :hasForename ?fname;\n",
    "            :hasSurname ?sname.\n",
    "    BIND(CONCAT(?fname, \" \", ?sname) AS ?name).\n",
    "}"
   ]
  },
  {
   "cell_type": "markdown",
   "id": "100d0ec7",
   "metadata": {},
   "source": [
    "# 6.1: All the drivers who won a Monza grand prix, ordered by number of wins"
   ]
  },
  {
   "cell_type": "code",
   "execution_count": null,
   "id": "02599a3e",
   "metadata": {},
   "outputs": [],
   "source": [
    "PREFIX : <https://www.dei.unipd.it/db2/groupProject/FASTianF1#>\n",
    "PREFIX xsd: <http://www.w3.org/2001/XMLSchema#>\n",
    "SELECT ?name (COUNT(?name) as ?numOfWins) WHERE { \n",
    "    ?race :hasCircuit ?circuit;\n",
    "          a :Race.\n",
    "    ?circuit :hasName \"Autodromo Nazionale di Monza\";\n",
    "             a :Circuit.\n",
    "    ?racePart :partecipatedInRace ?race;\n",
    "              :hasPositionOrder \"1\"^^xsd:integer;\n",
    "              :hasDriver ?driver.\n",
    "    ?driver a :Driver;\n",
    "            :hasForename ?fname;\n",
    "            :hasSurname ?sname.\n",
    "    BIND(CONCAT(?fname, \" \", ?sname) AS ?name).\n",
    "} GROUP BY (?name)\n",
    "ORDER BY DESC (?numOfWins)"
   ]
  },
  {
   "cell_type": "markdown",
   "id": "bcf78faf",
   "metadata": {},
   "source": [
    "# 6.2: All the drivers who won an Imola grand prix, ordered by number of wins"
   ]
  },
  {
   "cell_type": "code",
   "execution_count": null,
   "id": "caf9b200",
   "metadata": {},
   "outputs": [],
   "source": [
    "PREFIX : <https://www.dei.unipd.it/db2/groupProject/FASTianF1#>\n",
    "PREFIX xsd: <http://www.w3.org/2001/XMLSchema#>\n",
    "SELECT ?name (COUNT(?name) as ?numOfWins) WHERE { \n",
    "    ?race :hasCircuit ?circuit;\n",
    "          a :Race.\n",
    "    ?circuit :hasName \"Autodromo Enzo e Dino Ferrari\";\n",
    "             a :Circuit.\n",
    "    ?racePart :partecipatedInRace ?race;\n",
    "              :hasPositionOrder \"1\"^^xsd:integer;\n",
    "              :hasDriver ?driver.\n",
    "    ?driver a :Driver;\n",
    "            :hasForename ?fname;\n",
    "            :hasSurname ?sname.\n",
    "    BIND(CONCAT(?fname, \" \", ?sname) AS ?name).\n",
    "} GROUP BY (?name)\n",
    "ORDER BY DESC (?numOfWins)"
   ]
  },
  {
   "cell_type": "markdown",
   "id": "a38dfa8b",
   "metadata": {},
   "source": [
    "# 6.3: All the drivers who won an italian grand prix, ordered by number of wins"
   ]
  },
  {
   "cell_type": "code",
   "execution_count": null,
   "id": "e2831eb9",
   "metadata": {},
   "outputs": [],
   "source": [
    "PREFIX : <https://www.dei.unipd.it/db2/groupProject/FASTianF1#>\n",
    "PREFIX xsd: <http://www.w3.org/2001/XMLSchema#>\n",
    "PREFIX countries: <http://eulersharp.sourceforge.net/2003/03swap/countries#>\n",
    "SELECT ?name (COUNT(?name) as ?numOfWins) WHERE { \n",
    "    ?race :hasCircuit ?circuit;\n",
    "          a :Race.\n",
    "    ?circuit :hasLocation ?location;\n",
    "             a :Circuit.\n",
    "    ?location :hasCountry countries:it;\n",
    "              a :Location.\n",
    "    ?racePart :partecipatedInRace ?race;\n",
    "              :hasPositionOrder \"1\"^^xsd:integer;\n",
    "              :hasDriver ?driver.\n",
    "    ?driver a :Driver;\n",
    "            :hasForename ?fname;\n",
    "            :hasSurname ?sname.\n",
    "    BIND(CONCAT(?fname, \" \", ?sname) AS ?name).\n",
    "} GROUP BY (?name)\n",
    "ORDER BY DESC (?numOfWins)"
   ]
  },
  {
   "cell_type": "markdown",
   "id": "1e02aae6",
   "metadata": {},
   "source": [
    "# 6.4: All the italian drivers who won an italian grand prix, ordered by number of wins"
   ]
  },
  {
   "cell_type": "code",
   "execution_count": null,
   "id": "868da1a9",
   "metadata": {},
   "outputs": [],
   "source": [
    "PREFIX : <https://www.dei.unipd.it/db2/groupProject/FASTianF1#>\n",
    "PREFIX xsd: <http://www.w3.org/2001/XMLSchema#>\n",
    "PREFIX countries: <http://eulersharp.sourceforge.net/2003/03swap/countries#>\n",
    "SELECT ?name (COUNT(?name) as ?numOfWins) WHERE {\n",
    "    ?race :hasCircuit ?circuit;\n",
    "          a :Race.\n",
    "    ?circuit :hasLocation ?location;\n",
    "             a :Circuit.\n",
    "    ?location :hasCountry countries:it;\n",
    "              a :Location.\n",
    "    ?racePart :partecipatedInRace ?race;\n",
    "              :hasPositionOrder \"1\"^^xsd:integer;\n",
    "              :hasDriver ?driver.\n",
    "    ?driver a :Driver;\n",
    "            :hasNation countries:it;\n",
    "            :hasForename ?fname;\n",
    "            :hasSurname ?sname.\n",
    "    BIND(CONCAT(?fname, \" \", ?sname) AS ?name).\n",
    "} GROUP BY ?name\n",
    "ORDER BY DESC (?numOfWins)"
   ]
  },
  {
   "cell_type": "markdown",
   "id": "b046bf28",
   "metadata": {},
   "source": [
    "# 6.5: All the drivers who won an italian grand prix, driving an italian car, ordered by number of wins"
   ]
  },
  {
   "cell_type": "code",
   "execution_count": null,
   "id": "41ac71f1",
   "metadata": {},
   "outputs": [],
   "source": [
    "PREFIX : <https://www.dei.unipd.it/db2/groupProject/FASTianF1#>\n",
    "PREFIX xsd: <http://www.w3.org/2001/XMLSchema#>\n",
    "PREFIX countries: <http://eulersharp.sourceforge.net/2003/03swap/countries#>\n",
    "SELECT ?name (COUNT(?name) as ?numOfWins) ?consName WHERE { \n",
    "    ?race :hasCircuit ?circuit;\n",
    "          a :Race.\n",
    "    ?circuit :hasLocation ?location;\n",
    "             a :Circuit.\n",
    "    ?location :hasCountry countries:it;\n",
    "              a :Location.\n",
    "    ?racePart :partecipatedInRace ?race;\n",
    "              :hasPositionOrder \"1\"^^xsd:integer;\n",
    "              :hasConstructor ?constructor;\n",
    "              :hasDriver ?driver.\n",
    "    ?constructor a :Constructor;\n",
    "                 :hasName ?consName;\n",
    "                 :hasNation countries:it.\n",
    "    ?driver a :Driver;\n",
    "            :hasForename ?fname;\n",
    "            :hasSurname ?sname.\n",
    "    BIND(CONCAT(?fname, \" \", ?sname) AS ?name).\n",
    "} GROUP BY ?name ?consName\n",
    "ORDER BY DESC (?numOfWins)"
   ]
  },
  {
   "cell_type": "markdown",
   "id": "e9a5f8fe",
   "metadata": {},
   "source": [
    "# 6.6: All the italian drivers who won an italian grand prix, driving an italian car, ordered by number of wins"
   ]
  },
  {
   "cell_type": "code",
   "execution_count": null,
   "id": "a61b86e7",
   "metadata": {},
   "outputs": [],
   "source": [
    "PREFIX : <https://www.dei.unipd.it/db2/groupProject/FASTianF1#>\n",
    "PREFIX xsd: <http://www.w3.org/2001/XMLSchema#>\n",
    "PREFIX countries: <http://eulersharp.sourceforge.net/2003/03swap/countries#>\n",
    "SELECT ?name (COUNT(?name) as ?numOfWins) ?consName WHERE { \n",
    "    ?race :hasCircuit ?circuit;\n",
    "          a :Race.\n",
    "    ?circuit :hasLocation ?location;\n",
    "             a :Circuit.\n",
    "    ?location :hasCountry countries:it;\n",
    "              a :Location.\n",
    "    ?racePart :partecipatedInRace ?race;\n",
    "              :hasPositionOrder \"1\"^^xsd:integer;\n",
    "              :hasConstructor ?constructor;\n",
    "              :hasDriver ?driver.\n",
    "    ?constructor a :Constructor;\n",
    "                 :hasName ?consName;\n",
    "                 :hasNation countries:it.\n",
    "    ?driver a :Driver;\n",
    "            :hasNation countries:it;\n",
    "            :hasForename ?fname;\n",
    "            :hasSurname ?sname.\n",
    "    BIND(CONCAT(?fname, \" \", ?sname) AS ?name).\n",
    "} GROUP BY ?name ?consName\n",
    "ORDER BY DESC (?numOfWins)"
   ]
  },
  {
   "cell_type": "markdown",
   "id": "350517a7",
   "metadata": {},
   "source": [
    "# 7: The most winning italian driver in F1 history"
   ]
  },
  {
   "cell_type": "code",
   "execution_count": null,
   "id": "170e5343",
   "metadata": {},
   "outputs": [],
   "source": [
    "PREFIX : <https://www.dei.unipd.it/db2/groupProject/FASTianF1#>\n",
    "PREFIX xsd: <http://www.w3.org/2001/XMLSchema#>\n",
    "PREFIX countries: <http://eulersharp.sourceforge.net/2003/03swap/countries#>\n",
    "SELECT ?name (COUNT(?name) as ?numOfWins) WHERE { \n",
    "    ?race :hasCircuit ?circuit;\n",
    "          a :Race.\n",
    "    ?racePart :partecipatedInRace ?race;\n",
    "              :hasPositionOrder \"1\"^^xsd:integer;\n",
    "              :hasDriver ?driver.\n",
    "    ?driver a :Driver;\n",
    "            :hasNation countries:it;\n",
    "            :hasForename ?fname;\n",
    "            :hasSurname ?sname.\n",
    "    BIND(CONCAT(?fname, \" \", ?sname) AS ?name).\n",
    "} GROUP BY ?name\n",
    "ORDER BY DESC (?numOfWins)\n",
    "LIMIT 1"
   ]
  },
  {
   "cell_type": "markdown",
   "id": "c584d0c0",
   "metadata": {},
   "source": [
    "# 8.1: The 5 most winning drivers in F1 history, ordered by number of grand prix wins"
   ]
  },
  {
   "cell_type": "code",
   "execution_count": null,
   "id": "8bf79dd5",
   "metadata": {},
   "outputs": [],
   "source": [
    "PREFIX : <https://www.dei.unipd.it/db2/groupProject/FASTianF1#>\n",
    "PREFIX xsd: <http://www.w3.org/2001/XMLSchema#>\n",
    "SELECT ?name (COUNT(?name) as ?numOfWins) WHERE { \n",
    "    ?race :hasCircuit ?circuit;\n",
    "          a :Race.\n",
    "    ?racePart :partecipatedInRace ?race;\n",
    "              :hasPositionOrder \"1\"^^xsd:integer;\n",
    "              :hasDriver ?driver.\n",
    "    ?driver a :Driver;\n",
    "            :hasForename ?fname;\n",
    "            :hasSurname ?sname.\n",
    "    BIND(CONCAT(?fname, \" \", ?sname) AS ?name).\n",
    "} GROUP BY ?name\n",
    "ORDER BY DESC (?numOfWins)\n",
    "LIMIT 5"
   ]
  },
  {
   "cell_type": "markdown",
   "id": "799ed949",
   "metadata": {},
   "source": [
    "# 8.2: The 5 most winning constructors in F1 history, ordered by number of grand prix wins"
   ]
  },
  {
   "cell_type": "code",
   "execution_count": null,
   "id": "10bb208e",
   "metadata": {},
   "outputs": [],
   "source": [
    "PREFIX : <https://www.dei.unipd.it/db2/groupProject/FASTianF1#>\n",
    "PREFIX xsd: <http://www.w3.org/2001/XMLSchema#>\n",
    "SELECT ?name (COUNT(?name) as ?numOfWins) WHERE { \n",
    "    ?race :hasCircuit ?circuit;\n",
    "          a :Race.\n",
    "    ?racePart :partecipatedInRace ?race;\n",
    "              :hasPositionOrder \"1\"^^xsd:integer;\n",
    "              :hasConstructor ?cons.\n",
    "    ?cons a :Constructor;\n",
    "            :hasName ?name.\n",
    "} GROUP BY ?name\n",
    "ORDER BY DESC (?numOfWins)\n",
    "LIMIT 5"
   ]
  },
  {
   "cell_type": "markdown",
   "id": "4d981154",
   "metadata": {},
   "source": [
    "# 9: Information regarding the youngest drivers who have won races, in order of age"
   ]
  },
  {
   "cell_type": "code",
   "execution_count": null,
   "id": "db6fa9ef",
   "metadata": {},
   "outputs": [],
   "source": [
    "PREFIX : <https://www.dei.unipd.it/db2/groupProject/FASTianF1#>\n",
    "PREFIX xsd: <http://www.w3.org/2001/XMLSchema#>\n",
    "SELECT ?fullName ?age (COUNT(?pos) AS ?wins) (GROUP_CONCAT(DISTINCT YEAR(?raceDate) ; separator=\",\") AS ?year) (GROUP_CONCAT(DISTINCT ?circName ; separator=\",\") AS ?circuitNames) WHERE{\n",
    "    ?part :hasDriver ?driver ;\n",
    "          :hasPosition ?pos ;\n",
    "              :partecipatedInRace ?race .\n",
    "    ?race :hasDate ?raceDate ;\n",
    "          :hasCircuit ?circ .\n",
    "    ?circ :hasName ?circName .\n",
    "    ?driver :hasDateOfBirth ?dob ;\n",
    "            :hasForename ?fname ;\n",
    "            :hasSurname ?lname .\n",
    "    BIND(CONCAT(?fname, \" \", ?lname) AS ?fullName)\n",
    "    BIND((YEAR(?raceDate) - YEAR(?dob)) AS ?age)\n",
    "    FILTER(?pos = 1 && ?age < 26)\n",
    "}\n",
    "GROUP BY ?fullName ?age\n",
    "ORDER BY ASC (?age)"
   ]
  },
  {
   "cell_type": "markdown",
   "id": "9a2d43b3",
   "metadata": {},
   "source": [
    "# 10: Data about 10 slowest laps in F1 history"
   ]
  },
  {
   "cell_type": "code",
   "execution_count": null,
   "id": "8535b306",
   "metadata": {},
   "outputs": [],
   "source": [
    "PREFIX : <https://www.dei.unipd.it/db2/groupProject/FASTianF1#>\n",
    "PREFIX xsd: <http://www.w3.org/2001/XMLSchema#>\n",
    "SELECT ?driversName ?lapTime ?circuitName ?raceName ?raceDate WHERE {\n",
    "    ?racePart :hasLap ?lap;\n",
    "              :hasDriver ?driver;\n",
    "              :partecipatedInRace ?race;\n",
    "              a :RacePartecipation.\n",
    "    ?race a :Race;\n",
    "          :hasName ?raceName;\n",
    "          :hasDate ?raceDate;\n",
    "          :hasCircuit ?circ.\n",
    "    ?circ a :Circuit;\n",
    "             :hasName ?circuitName.\n",
    "    ?lap a :Lap;\n",
    "         :hasLapTime ?lapTime.\n",
    "    ?driver a :Driver;\n",
    "            :hasForename ?fname;\n",
    "            :hasSurname ?sname.\n",
    "    BIND(CONCAT(?fname, \" \", ?sname) AS ?driversName).\n",
    "}\n",
    "ORDER BY DESC (?lapTime)\n",
    "LIMIT 10"
   ]
  },
  {
   "cell_type": "markdown",
   "id": "40f56871",
   "metadata": {},
   "source": [
    "# 11: Data about 10 fastest q3 laps in F1 history"
   ]
  },
  {
   "cell_type": "code",
   "execution_count": null,
   "id": "49ab8ac0",
   "metadata": {},
   "outputs": [],
   "source": [
    "PREFIX : <https://www.dei.unipd.it/db2/groupProject/FASTianF1#>\n",
    "PREFIX xsd: <http://www.w3.org/2001/XMLSchema#>\n",
    "SELECT ?driversName ?q3Time ?circuitName ?raceName WHERE {\n",
    "    ?qualPart :hasQ3Time ?q3Time;\n",
    "              :hasDriver ?driver;\n",
    "              :partecipatedInQualif ?quali;\n",
    "              a :QualifPartecipation.\n",
    "    ?quali a :Qualifying.\n",
    "    ?race a :Race;\n",
    "          :hasA ?quali;\n",
    "          :hasName ?raceName;\n",
    "          :hasCircuit ?circ.\n",
    "    ?circ a :Circuit;\n",
    "             :hasName ?circuitName.\n",
    "    ?driver a :Driver;\n",
    "            :hasForename ?fname;\n",
    "            :hasSurname ?sname.\n",
    "    BIND(CONCAT(?fname, \" \", ?sname) AS ?driversName).\n",
    "    FILTER(?q3Time != \"00:00:00\"^^xsd:time)\n",
    "}\n",
    "ORDER BY (?q3Time)\n",
    "LIMIT 10"
   ]
  },
  {
   "cell_type": "markdown",
   "id": "424288d3",
   "metadata": {},
   "source": [
    "# 11.1: Data about 10 fastest q2 laps in F1 history"
   ]
  },
  {
   "cell_type": "code",
   "execution_count": null,
   "id": "d634349e",
   "metadata": {},
   "outputs": [],
   "source": [
    "PREFIX : <https://www.dei.unipd.it/db2/groupProject/FASTianF1#>\n",
    "PREFIX xsd: <http://www.w3.org/2001/XMLSchema#>\n",
    "SELECT ?driversName ?q2Time ?circuitName ?raceName WHERE {\n",
    "    ?qualPart :hasQ2Time ?q2Time;\n",
    "              :hasDriver ?driver;\n",
    "              :partecipatedInQualif ?quali;\n",
    "              a :QualifPartecipation.\n",
    "    ?quali a :Qualifying.\n",
    "    ?race a :Race;\n",
    "          :hasA ?quali;\n",
    "          :hasName ?raceName;\n",
    "          :hasCircuit ?circ.\n",
    "    ?circ a :Circuit;\n",
    "             :hasName ?circuitName.\n",
    "    ?driver a :Driver;\n",
    "            :hasForename ?fname;\n",
    "            :hasSurname ?sname.\n",
    "    BIND(CONCAT(?fname, \" \", ?sname) AS ?driversName).\n",
    "    FILTER(?q2Time != \"00:00:00\"^^xsd:time)\n",
    "}\n",
    "ORDER BY (?q2Time)\n",
    "LIMIT 10"
   ]
  },
  {
   "cell_type": "markdown",
   "id": "45d5d1ab",
   "metadata": {},
   "source": [
    "# 11.2: Data about 10 fastest q1 laps in F1 history"
   ]
  },
  {
   "cell_type": "code",
   "execution_count": null,
   "id": "a44792a9",
   "metadata": {},
   "outputs": [],
   "source": [
    "PREFIX : <https://www.dei.unipd.it/db2/groupProject/FASTianF1#>\n",
    "PREFIX xsd: <http://www.w3.org/2001/XMLSchema#>\n",
    "SELECT ?driversName ?q1Time ?circuitName ?raceName WHERE {\n",
    "    ?qualPart :hasQ1Time ?q1Time;\n",
    "              :hasDriver ?driver;\n",
    "              :partecipatedInQualif ?quali;\n",
    "              a :QualifPartecipation.\n",
    "    ?quali a :Qualifying.\n",
    "    ?race a :Race;\n",
    "          :hasA ?quali;\n",
    "          :hasName ?raceName;\n",
    "          :hasCircuit ?circ.\n",
    "    ?circ a :Circuit;\n",
    "             :hasName ?circuitName.\n",
    "    ?driver a :Driver;\n",
    "            :hasForename ?fname;\n",
    "            :hasSurname ?sname.\n",
    "    BIND(CONCAT(?fname, \" \", ?sname) AS ?driversName).\n",
    "    FILTER(?q1Time != \"00:00:00\"^^xsd:time)\n",
    "}\n",
    "ORDER BY (?q1Time)\n",
    "LIMIT 10"
   ]
  },
  {
   "cell_type": "markdown",
   "id": "f20274a1",
   "metadata": {},
   "source": [
    "# 11.3: Data about fastest qualifying laps in F1 history (both q1, q2 and q3)"
   ]
  },
  {
   "cell_type": "code",
   "execution_count": null,
   "id": "25a6dd6d",
   "metadata": {},
   "outputs": [],
   "source": [
    "PREFIX : <https://www.dei.unipd.it/db2/groupProject/FASTianF1#>\n",
    "PREFIX xsd: <http://www.w3.org/2001/XMLSchema#>\n",
    "SELECT ?driversName ?qTime ?circuitName ?raceName WHERE {\n",
    "    {\n",
    "        ?qualPart :hasQ3Time ?qTime.\n",
    "    }\n",
    "    UNION\n",
    "    {\n",
    "        ?qualPart :hasQ2Time ?qTime.\n",
    "    }\n",
    "    UNION\n",
    "    {\n",
    "        ?qualPart :hasQ1Time ?qTime.\n",
    "    }\n",
    "    ?qualPart :hasDriver ?driver;\n",
    "              :partecipatedInQualif ?quali;\n",
    "              a :QualifPartecipation.\n",
    "    ?quali a :Qualifying.\n",
    "    ?race a :Race;\n",
    "          :hasA ?quali;\n",
    "          :hasName ?raceName;\n",
    "          :hasCircuit ?circ.\n",
    "    ?circ a :Circuit;\n",
    "             :hasName ?circuitName.\n",
    "    ?driver a :Driver;\n",
    "            :hasForename ?fname;\n",
    "            :hasSurname ?sname.\n",
    "    BIND(CONCAT(?fname, \" \", ?sname) AS ?driversName).\n",
    "    FILTER(?qTime != \"00:00:00\"^^xsd:time)\n",
    "}\n",
    "ORDER BY (?qTime)\n",
    "LIMIT 100"
   ]
  },
  {
   "cell_type": "markdown",
   "id": "c7613d27",
   "metadata": {},
   "source": [
    "# 12: Data about 10 fastest pit stop in F1 history"
   ]
  },
  {
   "cell_type": "code",
   "execution_count": null,
   "id": "7a8cb7f4",
   "metadata": {},
   "outputs": [],
   "source": [
    "PREFIX : <https://www.dei.unipd.it/db2/groupProject/FASTianF1#>\n",
    "PREFIX xsd: <http://www.w3.org/2001/XMLSchema#>\n",
    "SELECT ?driversName ?pitDuration ?circuitName ?raceName ?raceDate WHERE {\n",
    "    ?racePart :hasPitStop ?pit;\n",
    "              :hasDriver ?driver;\n",
    "              :partecipatedInRace ?race;\n",
    "              a :RacePartecipation.\n",
    "    ?race a :Race;\n",
    "          :hasName ?raceName;\n",
    "          :hasDate ?raceDate;\n",
    "          :hasCircuit ?circ.\n",
    "    ?circ a :Circuit;\n",
    "             :hasName ?circuitName.\n",
    "    ?pit a :PitStop;\n",
    "         :hasDuration ?pitDuration.\n",
    "    ?driver a :Driver;\n",
    "            :hasForename ?fname;\n",
    "            :hasSurname ?sname.\n",
    "    BIND(CONCAT(?fname, \" \", ?sname) AS ?driversName).\n",
    "}\n",
    "ORDER BY (?pitDuration)\n",
    "LIMIT 10"
   ]
  },
  {
   "cell_type": "markdown",
   "id": "abc0dbc1",
   "metadata": {},
   "source": [
    "# 13: Name of the F1 driver with the highest number of pole position achieved"
   ]
  },
  {
   "cell_type": "code",
   "execution_count": null,
   "id": "7c97614b",
   "metadata": {},
   "outputs": [],
   "source": [
    "PREFIX : <https://www.dei.unipd.it/db2/groupProject/FASTianF1#>\n",
    "PREFIX xsd: <http://www.w3.org/2001/XMLSchema#>\n",
    "SELECT ?driversName (COUNT(?driversName) as ?numOfPoles) WHERE {\n",
    "    ?qualiPart a :QualifPartecipation;\n",
    "               :hasPosition \"1\"^^xsd:integer;\n",
    "               :hasDriver ?driver.\n",
    "    ?driver a :Driver;\n",
    "            :hasForename ?fname;\n",
    "            :hasSurname ?sname.\n",
    "    BIND(CONCAT(?fname, \" \", ?sname) AS ?driversName).\n",
    "}\n",
    "GROUP BY (?driversName)\n",
    "ORDER BY DESC (?numOfPoles)\n",
    "LIMIT 1"
   ]
  },
  {
   "cell_type": "markdown",
   "id": "31137c14",
   "metadata": {},
   "source": [
    "# 13.1: Date of the first qualifying in the dataset"
   ]
  },
  {
   "cell_type": "code",
   "execution_count": null,
   "id": "921398a3",
   "metadata": {},
   "outputs": [],
   "source": [
    "PREFIX : <https://www.dei.unipd.it/db2/groupProject/FASTianF1#>\n",
    "PREFIX xsd: <http://www.w3.org/2001/XMLSchema#>\n",
    "SELECT ?date WHERE {\n",
    "    ?qualiPart a :QualifPartecipation;\n",
    "               :partecipatedInQualif ?quali.\n",
    "    ?quali a :Qualifying.\n",
    "    ?race a :Race;\n",
    "          :hasA ?quali;\n",
    "          :hasDate ?date.\n",
    "}\n",
    "ORDER BY (?date)\n",
    "LIMIT 1"
   ]
  },
  {
   "cell_type": "markdown",
   "id": "8704d867",
   "metadata": {},
   "source": [
    "# 13.2: Name of the F1 driver with the highest number of pole position achieved, counted as number of times his starting grid position was 1. Also, printed the qualifying result in those races, to see if qualifying result is pole position or not (for penalties or other stuff)"
   ]
  },
  {
   "cell_type": "code",
   "execution_count": null,
   "id": "6b86950f",
   "metadata": {},
   "outputs": [],
   "source": [
    "PREFIX : <https://www.dei.unipd.it/db2/groupProject/FASTianF1#>\n",
    "PREFIX xsd: <http://www.w3.org/2001/XMLSchema#>\n",
    "SELECT ?driversName (COUNT(?driversName) as ?numOfPoles) (GROUP_CONCAT((?qualiPos) ; separator=\",\") AS ?qualifPositions) WHERE {\n",
    "    ?racePart a :RacePartecipation;\n",
    "              :partecipatedInRace ?race;\n",
    "              :hasStartingGridPosition \"1\"^^xsd:integer;\n",
    "              :hasDriver ?driver.\n",
    "    ?race a :Race.\n",
    "    ?driver a :Driver;\n",
    "            :hasForename ?fname;\n",
    "            :hasSurname ?sname.\n",
    "    BIND(CONCAT(?fname, \" \", ?sname) AS ?driversName).\n",
    "    OPTIONAL{\n",
    "        ?race :hasA ?qual.\n",
    "        ?qual a :Qualifying.\n",
    "        ?qualiPart a :QualifPartecipation;\n",
    "               :partecipatedInQualif ?qual;\n",
    "               :hasDriver ?driver;\n",
    "               :hasPosition ?qualiPos.\n",
    "    }.\n",
    "}\n",
    "GROUP BY ?driversName\n",
    "ORDER BY DESC (?numOfPoles)\n",
    "LIMIT 1"
   ]
  },
  {
   "cell_type": "markdown",
   "id": "7cc092d3",
   "metadata": {},
   "source": [
    "# 14: Constructors with most wins in the constructors' championship"
   ]
  },
  {
   "cell_type": "code",
   "execution_count": null,
   "id": "10c1c788",
   "metadata": {},
   "outputs": [],
   "source": [
    "PREFIX : <https://www.dei.unipd.it/db2/groupProject/FASTianF1#>\n",
    "SELECT ?name (COUNT(?name) AS ?totalWins) (GROUP_CONCAT(DISTINCT ?outerYear ; separator=\",\") AS ?years) WHERE{\n",
    "    {\n",
    "        SELECT ?name ?race (AVG(?pos) AS ?finalPosition) ?outerYear WHERE{\n",
    "            ?stand :hasRace ?race ;\n",
    "                   :hasConstructor ?cons ;\n",
    "                   :hasTotalPosition ?pos .\n",
    "            ?race :hasRound ?outerRound ;\n",
    "                  :inSeason ?outerSeason .\n",
    "            ?outerSeason :hasYear ?outerYear .\n",
    "            ?cons :hasName ?name .\n",
    "            FILTER(?outerRound = ?maxRound && ?outerYear = ?year && ?pos = 1)\n",
    "            {\n",
    "                SELECT ?year (MAX(?round) AS ?maxRound) WHERE {\n",
    "                    ?race :inSeason ?season ;\n",
    "                          :hasRound ?round .\n",
    "                    ?season :hasYear ?year .\n",
    "                }\n",
    "                GROUP BY ?year\n",
    "            }\n",
    "        }\n",
    "        GROUP BY ?name ?race ?outerYear\n",
    "        ORDER BY (?outerYear)\n",
    "    }\n",
    "}\n",
    "GROUP BY ?name\n",
    "ORDER BY DESC (?totalWins)"
   ]
  },
  {
   "cell_type": "markdown",
   "id": "e5aded74",
   "metadata": {},
   "source": [
    "# 15: For each driver, the average lap time duration of Monza 2023 grand prix, ordered by duration."
   ]
  },
  {
   "cell_type": "code",
   "execution_count": null,
   "id": "82c77462",
   "metadata": {},
   "outputs": [],
   "source": [
    "PREFIX : <https://www.dei.unipd.it/db2/groupProject/FASTianF1#>\n",
    "PREFIX xsd: <http://www.w3.org/2001/XMLSchema#>\n",
    "SELECT ?driversName (AVG(?lapTime) AS ?averageLapTime) WHERE {\n",
    "    ?racePart :hasLap ?lap;\n",
    "              :hasDriver ?driver;\n",
    "              :partecipatedInRace ?race;\n",
    "              a :RacePartecipation.\n",
    "    ?race a :Race;\n",
    "          :inSeason ?season;\n",
    "          :hasCircuit ?circ.\n",
    "    ?season a :Season;\n",
    "            :hasYear \"2023\"^^xsd:integer.\n",
    "    ?circ a :Circuit;\n",
    "             :hasName \"Autodromo Nazionale di Monza\".\n",
    "    ?lap a :Lap;\n",
    "         :hasMillisecondsTime ?lapTime.\n",
    "    ?driver a :Driver;\n",
    "            :hasForename ?fname;\n",
    "            :hasSurname ?sname.\n",
    "    BIND(CONCAT(?fname, \" \", ?sname) AS ?driversName).\n",
    "} \n",
    "GROUP BY (?driversName)\n",
    "ORDER BY (?averageLapTime)"
   ]
  },
  {
   "cell_type": "markdown",
   "id": "204526be",
   "metadata": {},
   "source": [
    "# 16: Are drivers who won the championship after 2000 older than those who won it before 2000, on average?"
   ]
  },
  {
   "cell_type": "code",
   "execution_count": null,
   "id": "583a50e7",
   "metadata": {},
   "outputs": [],
   "source": [
    "PREFIX : <https://www.dei.unipd.it/db2/groupProject/FASTianF1#>\n",
    "ASK WHERE{\n",
    "    {\n",
    "        SELECT (AVG(?age) as ?avgOldAge) WHERE{\n",
    "            ?stand :hasRace ?race ;\n",
    "                   :hasDriver ?driv ;\n",
    "                   :hasTotalPosition ?pos .\n",
    "            ?driv :hasDateOfBirth ?dob .\n",
    "            ?race :hasDate ?raceDate ;\n",
    "                  :inSeason ?outerSeason ;\n",
    "                  :hasRound ?outerRound .\n",
    "            ?outerSeason :hasYear ?outerYear .\n",
    "            BIND((YEAR(?raceDate) - YEAR(?dob)) AS ?age)\n",
    "            FILTER(?outerRound = ?maxRound && ?outerYear = ?year && ?pos = 1)\n",
    "            {\n",
    "                SELECT ?year (MAX(?round) AS ?maxRound) WHERE {\n",
    "                    ?race :inSeason ?season ;\n",
    "                          :hasRound ?round .\n",
    "                    ?season :hasYear ?year .\n",
    "                    FILTER(?year < 2000)\n",
    "                }\n",
    "                GROUP BY ?year\n",
    "            }\n",
    "        }\n",
    "    }\n",
    "    {\n",
    "        SELECT (AVG(?age) as ?avgRecentAge) WHERE{\n",
    "            ?stand :hasRace ?race ;\n",
    "                   :hasDriver ?driv ;\n",
    "                   :hasTotalPosition ?pos .\n",
    "            ?driv :hasDateOfBirth ?dob .\n",
    "            ?race :hasDate ?raceDate ;\n",
    "                  :inSeason ?outerSeason ;\n",
    "                  :hasRound ?outerRound .\n",
    "            ?outerSeason :hasYear ?outerYear .\n",
    "            BIND((YEAR(?raceDate) - YEAR(?dob)) AS ?age)\n",
    "            FILTER(?outerRound = ?maxRound && ?outerYear = ?year && ?pos = 1)\n",
    "            {\n",
    "                SELECT ?year (MAX(?round) AS ?maxRound) WHERE {\n",
    "                    ?race :inSeason ?season ;\n",
    "                          :hasRound ?round .\n",
    "                    ?season :hasYear ?year .\n",
    "                    FILTER(?year >= 2000)\n",
    "                }\n",
    "                GROUP BY ?year\n",
    "            }\n",
    "        }\n",
    "    }\n",
    "    FILTER(?avgRecentAge > ?avgOldAge)\n",
    "}"
   ]
  },
  {
   "cell_type": "markdown",
   "id": "81e6ca90",
   "metadata": {},
   "source": [
    "# 17: How many races did Leclerc end because of an accident"
   ]
  },
  {
   "cell_type": "code",
   "execution_count": null,
   "id": "b9d11d0f",
   "metadata": {},
   "outputs": [],
   "source": [
    "PREFIX : <https://www.dei.unipd.it/db2/groupProject/FASTianF1#>\n",
    "PREFIX xsd: <http://www.w3.org/2001/XMLSchema#>\n",
    "SELECT ?driversName (COUNT(?driversName) as ?numOfWins) WHERE {\n",
    "    ?racePart a :RacePartecipation;\n",
    "              :hasStatus ?status;\n",
    "              :hasDriver ?driver.\n",
    "    ?status a :Status;\n",
    "            :hasName \"Accident\".\n",
    "    ?driver a :Driver;\n",
    "            :hasForename ?fname;\n",
    "            :hasSurname ?sname.\n",
    "    BIND(CONCAT(?fname, \" \", ?sname) AS ?driversName).\n",
    "    FILTER (?driversName = \"Charles Leclerc\")\n",
    "}\n",
    "GROUP BY (?driversName)"
   ]
  },
  {
   "cell_type": "markdown",
   "id": "5e323aba",
   "metadata": {},
   "source": [
    "# 18.1: Every championship winner driver, ordered by season"
   ]
  },
  {
   "cell_type": "code",
   "execution_count": null,
   "id": "b52a0135",
   "metadata": {},
   "outputs": [],
   "source": [
    "PREFIX : <https://www.dei.unipd.it/db2/groupProject/FASTianF1#>\n",
    "SELECT ?name (?outerYear AS ?seasonYear) WHERE{\n",
    "    ?stand :hasRace ?race ;\n",
    "           :hasDriver ?driv ;\n",
    "           :hasTotalPosition ?pos .\n",
    "    ?driv a :Driver;\n",
    "          :hasForename ?fname;\n",
    "          :hasSurname ?sname.\n",
    "    BIND(CONCAT(?fname, \" \", ?sname) AS ?name).\n",
    "    ?race :hasDate ?raceDate ;\n",
    "          :inSeason ?outerSeason ;\n",
    "          :hasRound ?outerRound .\n",
    "    ?outerSeason :hasYear ?outerYear .\n",
    "    FILTER(?outerRound = ?maxRound && ?outerYear = ?year && ?pos = 1)\n",
    "    {\n",
    "        SELECT ?year (MAX(?round) AS ?maxRound) WHERE {\n",
    "            ?race :inSeason ?season ;\n",
    "                  :hasRound ?round .\n",
    "            ?season :hasYear ?year .\n",
    "        }\n",
    "        GROUP BY ?year\n",
    "    }\n",
    "}\n",
    "ORDER BY DESC (?seasonYear)"
   ]
  },
  {
   "cell_type": "markdown",
   "id": "5e99aad8",
   "metadata": {},
   "source": [
    "# 18.2: Every championship winner constructor, ordered by season"
   ]
  },
  {
   "cell_type": "code",
   "execution_count": null,
   "id": "46e0149e",
   "metadata": {},
   "outputs": [],
   "source": [
    "PREFIX : <https://www.dei.unipd.it/db2/groupProject/FASTianF1#>\n",
    "SELECT ?name (?outerYear AS ?seasonYear) WHERE{\n",
    "    ?stand :hasRace ?race ;\n",
    "           :hasConstructor ?cons ;\n",
    "           :hasTotalPosition ?pos ;\n",
    "           a :ConstructorStanding.\n",
    "    ?cons a :Constructor;\n",
    "          :hasName ?name.\n",
    "    ?race :hasDate ?raceDate ;\n",
    "          :inSeason ?outerSeason ;\n",
    "          :hasRound ?outerRound .\n",
    "    ?outerSeason :hasYear ?outerYear .\n",
    "    FILTER(?outerRound = ?maxRound && ?outerYear = ?year && ?pos = 1)\n",
    "    {\n",
    "        SELECT ?year (MAX(?round) AS ?maxRound) WHERE {\n",
    "            ?race :inSeason ?season ;\n",
    "                  :hasRound ?round .\n",
    "            ?season :hasYear ?year .\n",
    "        }\n",
    "        GROUP BY ?year\n",
    "    }\n",
    "}\n",
    "ORDER BY DESC (?seasonYear)"
   ]
  },
  {
   "cell_type": "markdown",
   "id": "f944035a",
   "metadata": {},
   "source": [
    "# 19: Championship winning drivers who won more than 2 championships, ordered by number of championships won"
   ]
  },
  {
   "cell_type": "code",
   "execution_count": null,
   "id": "6f0b4c8b",
   "metadata": {},
   "outputs": [],
   "source": [
    "PREFIX : <https://www.dei.unipd.it/db2/groupProject/FASTianF1#>\n",
    "SELECT ?name (COUNT(?name) AS ?numOfWins) WHERE{\n",
    "    ?stand :hasRace ?race ;\n",
    "           :hasDriver ?driv ;\n",
    "           :hasTotalPosition ?pos .\n",
    "    ?driv a :Driver;\n",
    "          :hasForename ?fname;\n",
    "          :hasSurname ?sname.\n",
    "    BIND(CONCAT(?fname, \" \", ?sname) AS ?name).\n",
    "    ?race :hasDate ?raceDate ;\n",
    "          :inSeason ?outerSeason ;\n",
    "          :hasRound ?outerRound .\n",
    "    ?outerSeason :hasYear ?outerYear .\n",
    "    FILTER(?outerRound = ?maxRound && ?outerYear = ?year && ?pos = 1)\n",
    "    {\n",
    "        SELECT ?year (MAX(?round) AS ?maxRound) WHERE {\n",
    "            ?race :inSeason ?season ;\n",
    "                  :hasRound ?round .\n",
    "            ?season :hasYear ?year .\n",
    "        }\n",
    "        GROUP BY ?year\n",
    "    }\n",
    "}\n",
    "GROUP BY ?name\n",
    "HAVING (?numOfWins > 2)\n",
    "ORDER BY DESC (?numOfWins)"
   ]
  },
  {
   "cell_type": "markdown",
   "id": "ddac8805",
   "metadata": {},
   "source": [
    "# 20.1: Construct scheme with information about championship constructor winners"
   ]
  },
  {
   "cell_type": "code",
   "execution_count": null,
   "id": "03516bc1",
   "metadata": {},
   "outputs": [],
   "source": [
    "PREFIX : <https://www.dei.unipd.it/db2/groupProject/FASTianF1#>\n",
    "CONSTRUCT {\n",
    "    ?driv a :Driver.\n",
    "    ?driv :hasName ?driverName.\n",
    "    ?outerSeason a :Season.\n",
    "    ?outerSeason :hasDriverWinner ?driv.\n",
    "} WHERE{\n",
    "    ?drivStand :hasRace ?race ;\n",
    "               :hasDriver ?driv ;\n",
    "               :hasTotalPosition ?pos .\n",
    "    ?driv a :Driver;\n",
    "          :hasForename ?fname;\n",
    "          :hasSurname ?sname.\n",
    "    BIND(CONCAT(?fname, \" \", ?sname) AS ?driverName).\n",
    "    ?race :hasDate ?raceDate ;\n",
    "          :inSeason ?outerSeason ;\n",
    "          :hasRound ?outerRound .\n",
    "    ?outerSeason :hasYear ?outerYear .\n",
    "    FILTER(?outerRound = ?maxRound && ?outerYear = ?year && ?pos = 1)\n",
    "    {\n",
    "        SELECT ?year (MAX(?round) AS ?maxRound) WHERE {\n",
    "            ?race :inSeason ?season ;\n",
    "                  :hasRound ?round .\n",
    "            ?season :hasYear ?year .\n",
    "        }\n",
    "        GROUP BY ?year\n",
    "    }\n",
    "}"
   ]
  },
  {
   "cell_type": "markdown",
   "id": "fb264163",
   "metadata": {},
   "source": [
    "# 20.2: Construct scheme with information about championship driver winners"
   ]
  },
  {
   "cell_type": "code",
   "execution_count": null,
   "id": "532c4be3",
   "metadata": {},
   "outputs": [],
   "source": [
    "PREFIX : <https://www.dei.unipd.it/db2/groupProject/FASTianF1#>\n",
    "CONSTRUCT {\n",
    "    ?cons a :Constructor.\n",
    "    ?cons :hasName ?constructorName.\n",
    "    ?outerSeason a :Season.\n",
    "    ?outerSeason :hasConstructorWinner ?cons.\n",
    "} WHERE{\n",
    "    ?consStand :hasRace ?race ;\n",
    "               :hasConstructor ?cons ;\n",
    "               :hasTotalPosition ?pos ;\n",
    "               a :ConstructorStanding.\n",
    "    ?cons a :Constructor;\n",
    "          :hasName ?constructorName.\n",
    "    ?race :hasDate ?raceDate ;\n",
    "          :inSeason ?outerSeason ;\n",
    "          :hasRound ?outerRound .\n",
    "    ?outerSeason :hasYear ?outerYear .\n",
    "    FILTER(?outerRound = ?maxRound && ?outerYear = ?year && ?pos = 1)\n",
    "    {\n",
    "        SELECT ?year (MAX(?round) AS ?maxRound) WHERE {\n",
    "            ?race :inSeason ?season ;\n",
    "                  :hasRound ?round .\n",
    "            ?season :hasYear ?year .\n",
    "        }\n",
    "        GROUP BY ?year\n",
    "    }\n",
    "}"
   ]
  },
  {
   "cell_type": "markdown",
   "id": "a3c416c7",
   "metadata": {},
   "source": [
    "# 21: Circuits ordered by number of accidents in races/sprints in history"
   ]
  },
  {
   "cell_type": "code",
   "execution_count": null,
   "id": "6fbc358b",
   "metadata": {},
   "outputs": [],
   "source": [
    "PREFIX : <https://www.dei.unipd.it/db2/groupProject/FASTianF1#>\n",
    "SELECT ?circuitName (COUNT(?circuitName) AS ?numberOfAccidents) WHERE{\n",
    "    {\n",
    "        ?sprintPart a :RacePartecipation;\n",
    "                  :partecipatedInRace ?race;\n",
    "                  :hasStatus ?stat.\n",
    "        ?stat a :Status;\n",
    "              :hasName \"Accident\".\n",
    "        ?race a :Race;\n",
    "              :hasCircuit ?circ.\n",
    "        ?circ a :Circuit;\n",
    "              :hasName ?circuitName.\n",
    "    }\n",
    "    UNION\n",
    "    {\n",
    "        ?racePart a :SprintPartecipation;\n",
    "                  :partecipatedInSprint ?sprint;\n",
    "                  :hasStatus ?stat.\n",
    "        ?stat a :Status;\n",
    "              :hasName \"Accident\".\n",
    "        ?sprint a :Sprint.\n",
    "        ?race a :Race;\n",
    "              :hasA ?sprint;\n",
    "              :hasCircuit ?circ.\n",
    "        ?circ a :Circuit;\n",
    "              :hasName ?circuitName.\n",
    "    }\n",
    "}\n",
    "GROUP BY (?circuitName)\n",
    "ORDER BY DESC (?numberOfAccidents)"
   ]
  },
  {
   "cell_type": "markdown",
   "id": "2100872e",
   "metadata": {},
   "source": [
    "# 22: Winners of driver's championship and constructor's championship for each season."
   ]
  },
  {
   "cell_type": "code",
   "execution_count": null,
   "id": "676c4b24",
   "metadata": {},
   "outputs": [],
   "source": [
    "PREFIX : <https://www.dei.unipd.it/db2/groupProject/FASTianF1#>\n",
    "SELECT ?outerYear ?driverName ?constructorName WHERE{\n",
    "    ?driverStand :hasTotalPosition ?pos ;\n",
    "                 :hasRace ?race ;\n",
    "                 :hasDriver ?driver .\n",
    "    ?constStand :hasTotalPosition ?pos ;\n",
    "                :hasRace ?race ;\n",
    "                :hasConstructor ?const .\n",
    "    ?race :hasRound ?outerRound ;\n",
    "          :inSeason ?season .\n",
    "    ?season :hasYear ?outerYear .\n",
    "    ?driver :hasForename ?fname ;\n",
    "            :hasSurname ?sname .\n",
    "    ?const :hasName ?constructorName .\n",
    "    BIND(CONCAT(?fname, \" \", ?sname) AS ?driverName).\n",
    "    FILTER(?outerRound = ?maxRound && ?outerYear = ?year && ?pos = 1)\n",
    "    {\n",
    "        SELECT ?year (MAX(?round) AS ?maxRound) WHERE {\n",
    "            ?race :inSeason ?season ;\n",
    "                  :hasRound ?round .\n",
    "            ?season :hasYear ?year .\n",
    "        }\n",
    "        GROUP BY ?year\n",
    "    }\n",
    "}\n",
    "ORDER BY DESC (?outerYear)"
   ]
  },
  {
   "cell_type": "markdown",
   "id": "ac9300ce",
   "metadata": {},
   "source": [
    "# 23: Drivers who gained the most positions during a race after 2000"
   ]
  },
  {
   "cell_type": "code",
   "execution_count": null,
   "id": "606672d2",
   "metadata": {},
   "outputs": [],
   "source": [
    "PREFIX : <https://www.dei.unipd.it/db2/groupProject/FASTianF1#>\n",
    "SELECT ?driverName ?raceName ?year ?positionsGained WHERE{\n",
    "    ?part :hasStartingGridPosition ?grid ;\n",
    "          :partecipatedInRace ?race ;\n",
    "          :hasDriver ?driver ;\n",
    "          :hasPosition ?pos .\n",
    "    ?driver :hasForename ?fname ;\n",
    "            :hasSurname ?sname .\n",
    "    ?race :inSeason ?season ;\n",
    "          :hasName ?raceName .\n",
    "    ?season :hasYear ?year .\n",
    "    FILTER(?year >= 2000)\n",
    "    BIND((?grid - ?pos) AS ?positionsGained)\n",
    "    BIND(CONCAT(?fname, \" \", ?sname) AS ?driverName)\n",
    "}\n",
    "ORDER BY DESC (?positionsGained)\n",
    "LIMIT 50"
   ]
  },
  {
   "cell_type": "markdown",
   "id": "d65ef66f",
   "metadata": {},
   "source": [
    "# 24: Drivers ordered by pole-to-win percentage (percentage of races won starting from the first position in grid)"
   ]
  },
  {
   "cell_type": "code",
   "execution_count": null,
   "id": "6e4c98fd",
   "metadata": {},
   "outputs": [],
   "source": [
    "PREFIX : <https://www.dei.unipd.it/db2/groupProject/FASTianF1#>\n",
    "SELECT ?name ?numOfPoleWins ?numOfPoles ?winPercentage WHERE{\n",
    "    {\n",
    "        SELECT ?name (COUNT(?name) AS ?numOfPoleWins) WHERE{\n",
    "            ?racePart :partecipatedInRace ?race ;\n",
    "                      :hasDriver ?driv ;\n",
    "                      :hasStartingGridPosition ?startPos ;\n",
    "                      :hasPosition ?pos .\n",
    "            ?driv a :Driver;\n",
    "                  :hasForename ?fname;\n",
    "                  :hasSurname ?sname.\n",
    "            BIND(CONCAT(?fname, \" \", ?sname) AS ?name).\n",
    "            FILTER(?startPos = 1 && ?pos = 1)\n",
    "        }\n",
    "        GROUP BY ?name\n",
    "    }\n",
    "    {\n",
    "        SELECT ?name (COUNT(?name) AS ?numOfPoles) WHERE{\n",
    "            ?racePart :partecipatedInRace ?race ;\n",
    "                      :hasDriver ?driv ;\n",
    "                      :hasStartingGridPosition ?startPos .\n",
    "            ?driv a :Driver;\n",
    "                  :hasForename ?fname;\n",
    "                  :hasSurname ?sname.\n",
    "            BIND(CONCAT(?fname, \" \", ?sname) AS ?name).\n",
    "            FILTER(?startPos = 1)\n",
    "        }\n",
    "        GROUP BY ?name\n",
    "    }\n",
    "    BIND((?numOfPoleWins / ?numOfPoles) * 100 AS ?winPercentage)\n",
    "}\n",
    "ORDER BY DESC (?winPercentage)"
   ]
  },
  {
   "cell_type": "markdown",
   "id": "e96a19ff",
   "metadata": {},
   "source": [
    "# 25: Drivers who finished first in a race and were placed in the last quarter in the standing of the previous race."
   ]
  },
  {
   "cell_type": "code",
   "execution_count": null,
   "id": "81ad3e88",
   "metadata": {},
   "outputs": [],
   "source": [
    "PREFIX : <https://www.dei.unipd.it/db2/groupProject/FASTianF1#>\n",
    "SELECT ?driverName ?raceName ?round ?year WHERE{\n",
    "    ?race :hasRound ?round ;\n",
    "          :inSeason ?season ;\n",
    "          :hasName ?raceName .\n",
    "    ?part :partecipatedInRace ?race ;\n",
    "          :hasPosition ?pos ;\n",
    "          :hasDriver ?driver .\n",
    "    ?driver :hasForename ?fname ;\n",
    "            :hasSurname ?lname .\n",
    "    ?season :hasYear ?year .\n",
    "    BIND((?round-1) AS ?prevRound)\n",
    "    BIND(CONCAT(?fname,\" \",?lname) AS ?driverName)\n",
    "    FILTER(?pos = 1 && EXISTS{\n",
    "            ?prevRace :hasRound ?prevRound ;\n",
    "                      :inSeason ?season .\n",
    "            ?stand :hasRace ?prevRace ;\n",
    "                   :hasDriver ?driver ;\n",
    "                   :hasTotalPosition ?totPos .\n",
    "            FILTER (?totPos >= ((?maxPos/4)*3) && ?prevRace = ?raceMax)\n",
    "            {\n",
    "                SELECT ?raceMax (MAX(?totPos) AS ?maxPos) WHERE {\n",
    "                    ?standing a :DriverStanding ;\n",
    "                              :hasRace ?raceMax ;\n",
    "                              :hasTotalPosition ?totPos .\n",
    "                }\n",
    "                GROUP BY ?raceMax\n",
    "            }\n",
    "        })\n",
    "}\n",
    "ORDER BY (?year)"
   ]
  }
 ],
 "metadata": {
  "kernelspec": {
   "display_name": "Python 3 (ipykernel)",
   "language": "python",
   "name": "python3"
  },
  "language_info": {
   "codemirror_mode": {
    "name": "ipython",
    "version": 3
   },
   "file_extension": ".py",
   "mimetype": "text/x-python",
   "name": "python",
   "nbconvert_exporter": "python",
   "pygments_lexer": "ipython3",
   "version": "3.11.5"
  }
 },
 "nbformat": 4,
 "nbformat_minor": 5
}
