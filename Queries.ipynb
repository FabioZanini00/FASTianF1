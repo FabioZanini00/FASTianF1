{
 "cells": [
  {
   "cell_type": "markdown",
   "id": "c3cca945",
   "metadata": {},
   "source": [
    "# 1: 10 younger drivers ever"
   ]
  },
  {
   "cell_type": "code",
   "execution_count": null,
   "id": "4aa718cf",
   "metadata": {},
   "outputs": [],
   "source": [
    "PREFIX : <https://www.dei.unipd.it/db2/groupProject/FASTianF1#>\n",
    "SELECT ?name ?bdate WHERE { \n",
    "\t?driver a :Driver ;\n",
    "    :hasForename ?fname ;\n",
    "    :hasSurname ?sname ;\n",
    "    :hasDateOfBirth ?bdate .\n",
    "    BIND(CONCAT(?fname, \" \", ?sname) AS ?name).\n",
    "} \n",
    "ORDER BY DESC (?bdate)\n",
    "LIMIT 10"
   ]
  },
  {
   "cell_type": "markdown",
   "id": "bca9ca37",
   "metadata": {},
   "source": [
    "# 2: Drivers who partecipated in the 2023 season"
   ]
  },
  {
   "cell_type": "code",
   "execution_count": null,
   "id": "3a64c1d4",
   "metadata": {},
   "outputs": [],
   "source": [
    "PREFIX : <https://www.dei.unipd.it/db2/groupProject/FASTianF1#>\n",
    "PREFIX xsd: <http://www.w3.org/2001/XMLSchema#>\n",
    "SELECT ?name WHERE { \n",
    "    ?season :hasYear \"2023\"^^xsd:integer;\n",
    "            a :Season.\n",
    "    ?race :inSeason ?season;\n",
    "          a :Race.\n",
    "    ?racePart :partecipatedInRace ?race;\n",
    "              :hasDriver ?driver.\n",
    "    ?driver a :Driver;\n",
    "            :hasForename ?fname;\n",
    "            :hasSurname ?sname.\n",
    "    BIND(CONCAT(?fname, \" \", ?sname) AS ?name).\n",
    "} GROUP BY (?name)"
   ]
  },
  {
   "cell_type": "markdown",
   "id": "e89c2983",
   "metadata": {},
   "source": [
    "# 3: Final 2022 season driver's classification (edit)"
   ]
  },
  {
   "cell_type": "code",
   "execution_count": null,
   "id": "885b1b3b",
   "metadata": {},
   "outputs": [],
   "source": [
    "PREFIX : <https://www.dei.unipd.it/db2/groupProject/FASTianF1#>\n",
    "PREFIX xsd: <http://www.w3.org/2001/XMLSchema#>\n",
    "SELECT ?name (MAX(?totPoints) AS ?finalPoints) WHERE {\n",
    "    ?season :hasYear \"2022\"^^xsd:integer;\n",
    "            a :Season.\n",
    "    ?race :inSeason ?season;\n",
    "          a :Race.\n",
    "    ?racePart :partecipatedInRace ?race;\n",
    "              :hasTotalPoints ?totPoints;\n",
    "              :hasDriver ?driver;\n",
    "              a :RacePartecipation.\n",
    "    ?driver :hasForename ?fname;\n",
    "            :hasSurname ?sname;\n",
    "            a :Driver.\n",
    "    BIND(CONCAT(?fname, \" \", ?sname) AS ?name).\n",
    "}\n",
    "GROUP BY (?name)\n",
    "ORDER BY DESC (?finalPoints)"
   ]
  },
  {
   "cell_type": "markdown",
   "id": "19af7bc7",
   "metadata": {},
   "source": [
    "# 4: Final 2022 season constructor's classification (edit)"
   ]
  },
  {
   "cell_type": "code",
   "execution_count": null,
   "id": "ea88fdda",
   "metadata": {},
   "outputs": [],
   "source": [
    "PREFIX : <https://www.dei.unipd.it/db2/groupProject/FASTianF1#>\n",
    "PREFIX xsd: <http://www.w3.org/2001/XMLSchema#>\n",
    "SELECT ?name (MAX(?totPoints) AS ?finalPoints) WHERE {\n",
    "    ?season :hasYear \"2022\"^^xsd:integer;\n",
    "            a :Season.\n",
    "    ?race :inSeason ?season;\n",
    "          a :Race.\n",
    "    ?racePart :partecipatedInRace ?race;\n",
    "              :hasConstructorTotalPoints ?totPoints;\n",
    "              :hasConstructor ?constructor;\n",
    "              a :RacePartecipation.\n",
    "    ?constructor :hasName ?name;\n",
    "            a :Constructor.\n",
    "}\n",
    "GROUP BY (?name)\n",
    "ORDER BY DESC (?finalPoints)"
   ]
  },
  {
   "cell_type": "markdown",
   "id": "151541e5",
   "metadata": {},
   "source": [
    "# 5: Complete name of the driver winner of 2021 season (edit)"
   ]
  },
  {
   "cell_type": "code",
   "execution_count": null,
   "id": "d60522cd",
   "metadata": {},
   "outputs": [],
   "source": [
    "PREFIX : <https://www.dei.unipd.it/db2/groupProject/FASTianF1#>\n",
    "PREFIX xsd: <http://www.w3.org/2001/XMLSchema#>\n",
    "SELECT (?name AS ?2021winnersName) WHERE {\n",
    "    {\n",
    "\t\tSELECT ?name (MAX(?totPoints) AS ?finalPoints) WHERE {\n",
    "    \t\t?season :hasYear \"2021\"^^xsd:integer;\n",
    "            \t\ta :Season.\n",
    "    \t\t?race :inSeason ?season;\n",
    "          \t\ta :Race.\n",
    "    \t\t?racePart :partecipatedInRace ?race;\n",
    "              \t\t:hasTotalPoints ?totPoints;\n",
    "              \t\t:hasDriver ?driver;\n",
    "              \t\ta :RacePartecipation.\n",
    "    \t\t?driver :hasForename ?fname;\n",
    "            \t\t:hasSurname ?sname;\n",
    "            \t\ta :Driver.\n",
    "    \t\tBIND(CONCAT(?fname, \" \", ?sname) AS ?name).\n",
    "\t\t}\n",
    "\t\tGROUP BY (?name)\n",
    "\t\tORDER BY DESC (?finalPoints)\n",
    "    }\n",
    "} \n",
    "LIMIT 1"
   ]
  },
  {
   "cell_type": "markdown",
   "id": "cb206d57",
   "metadata": {},
   "source": [
    "# 6: Name of the constructor team winner of 2021 season (edit)"
   ]
  },
  {
   "cell_type": "code",
   "execution_count": null,
   "id": "91ccc5e5",
   "metadata": {},
   "outputs": [],
   "source": [
    "PREFIX : <https://www.dei.unipd.it/db2/groupProject/FASTianF1#>\n",
    "PREFIX xsd: <http://www.w3.org/2001/XMLSchema#>\n",
    "SELECT (?name AS ?2021winnersName) WHERE {\n",
    "    {\n",
    "\t\tSELECT ?name (MAX(?totPoints) AS ?finalPoints) WHERE {\n",
    "    \t\t?season :hasYear \"2021\"^^xsd:integer;\n",
    "            \t\ta :Season.\n",
    "    \t\t?race :inSeason ?season;\n",
    "          \t\ta :Race.\n",
    "    \t\t?racePart :partecipatedInRace ?race;\n",
    "              \t\t:hasConstructorTotalPoints ?totPoints;\n",
    "              \t\t:hasConstructor ?constructor;\n",
    "              \t\ta :RacePartecipation.\n",
    "    \t\t?constructor :hasName ?name;\n",
    "            \t\ta :Constructor.\n",
    "\t\t}\n",
    "\t\tGROUP BY (?name)\n",
    "\t\tORDER BY DESC (?finalPoints)\n",
    "    }\n",
    "} \n",
    "LIMIT 1"
   ]
  },
  {
   "cell_type": "markdown",
   "id": "b52d3947",
   "metadata": {},
   "source": [
    "# 7: Complete names of the 20 drivers with the most pit stops made with a single constructor"
   ]
  },
  {
   "cell_type": "code",
   "execution_count": null,
   "id": "ca5a134d",
   "metadata": {},
   "outputs": [],
   "source": [
    "PREFIX : <https://www.dei.unipd.it/db2/groupProject/FASTianF1#>\n",
    "SELECT ?name (?cname AS ?constructorName) (SUM(?maxNumb) AS ?totalPitStops) WHERE{\n",
    "    {\n",
    "        SELECT ?partecipation ?name ?cname (MAX(?numb) AS ?maxNumb) WHERE { \n",
    "            ?driver :hasForename ?fname ;\n",
    "                    :hasSurname ?sname .\n",
    "            ?partecipation :hasDriver ?driver ;\n",
    "                           :hasPitStop ?stop ;\n",
    "                           :hasConstructor ?constructor .\n",
    "            ?constructor :hasName ?cname .\n",
    "            ?stop :hasStopNumber ?numb .\n",
    "            BIND(CONCAT(?fname, \" \", ?sname) AS ?name).\n",
    "        }\n",
    "        GROUP BY ?partecipation ?name ?cname\n",
    "    }\n",
    "}\n",
    "GROUP BY ?name ?cname\n",
    "ORDER BY DESC(?totalPitStops)\n",
    "LIMIT 20"
   ]
  },
  {
   "cell_type": "markdown",
   "id": "0c818883",
   "metadata": {},
   "source": [
    "# 8: 2023 drivers ordered by maximum rating value"
   ]
  },
  {
   "cell_type": "code",
   "execution_count": null,
   "id": "2cccaacb",
   "metadata": {},
   "outputs": [],
   "source": [
    "PREFIX : <https://www.dei.unipd.it/db2/groupProject/FASTianF1#>\n",
    "PREFIX xsd: <http://www.w3.org/2001/XMLSchema#>\n",
    "SELECT ?name (MAX(?ratVal) as ?maxRating) WHERE {\n",
    "    ?season :hasYear \"2023\"^^xsd:integer;\n",
    "            a :Season.\n",
    "    ?rating :inSeason ?season;\n",
    "            :hasDriver ?driver;\n",
    "            :hasRating ?ratVal;\n",
    "          \ta :Rating.\n",
    "    ?driver a :Driver;\n",
    "            :hasForename ?fname;\n",
    "            :hasSurname ?sname.\n",
    "    BIND(CONCAT(?fname, \" \", ?sname) AS ?name).\n",
    "}\n",
    "GROUP BY (?name)\n",
    "ORDER BY DESC (?maxRating)"
   ]
  },
  {
   "cell_type": "markdown",
   "id": "e0e4fafc",
   "metadata": {},
   "source": [
    "# 9: Most payed driver of 2023 season"
   ]
  },
  {
   "cell_type": "code",
   "execution_count": null,
   "id": "eb8cecf6",
   "metadata": {},
   "outputs": [],
   "source": [
    "PREFIX : <https://www.dei.unipd.it/db2/groupProject/FASTianF1#>\n",
    "PREFIX xsd: <http://www.w3.org/2001/XMLSchema#>\n",
    "SELECT ?name (MAX(?sal) as ?salary) WHERE {\n",
    "    ?season :hasYear \"2023\"^^xsd:integer;\n",
    "            a :Season.\n",
    "    ?rating :inSeason ?season;\n",
    "            :hasDriver ?driver;\n",
    "            :hasSalary ?sal;\n",
    "          \ta :Rating.\n",
    "    ?driver a :Driver;\n",
    "            :hasForename ?fname;\n",
    "            :hasSurname ?sname.\n",
    "    BIND(CONCAT(?fname, \" \", ?sname) AS ?name).\n",
    "}\n",
    "GROUP BY (?name)\n",
    "ORDER BY DESC (?salary)"
   ]
  },
  {
   "cell_type": "markdown",
   "id": "2a33d0d1",
   "metadata": {},
   "source": [
    "# 10: Circuits in F1 history"
   ]
  },
  {
   "cell_type": "code",
   "execution_count": null,
   "id": "d8e07a59",
   "metadata": {},
   "outputs": [],
   "source": [
    "PREFIX : <https://www.dei.unipd.it/db2/groupProject/FASTianF1#>\n",
    "PREFIX xsd: <http://www.w3.org/2001/XMLSchema#>\n",
    "SELECT ?name WHERE { \n",
    "    ?race :hasCircuit ?circuit;\n",
    "          a :Race.\n",
    "    ?circuit :hasName ?name;\n",
    "             a :Circuit.\n",
    "} GROUP BY (?name)"
   ]
  },
  {
   "cell_type": "markdown",
   "id": "19a4c064",
   "metadata": {},
   "source": [
    "# 11: Winner of 2021 Monza grand prix"
   ]
  },
  {
   "cell_type": "code",
   "execution_count": null,
   "id": "a2c59a8f",
   "metadata": {},
   "outputs": [],
   "source": [
    "PREFIX : <https://www.dei.unipd.it/db2/groupProject/FASTianF1#>\n",
    "PREFIX xsd: <http://www.w3.org/2001/XMLSchema#>\n",
    "SELECT ?name WHERE { \n",
    "    ?season :hasYear \"2021\"^^xsd:integer;\n",
    "            a :Season.\n",
    "    ?race :inSeason ?season;\n",
    "          :hasCircuit ?circuit;\n",
    "          a :Race.\n",
    "    ?circuit :hasName \"Autodromo Nazionale di Monza\";\n",
    "             a :Circuit.\n",
    "    ?racePart :partecipatedInRace ?race;\n",
    "              :hasPositionOrder \"1\"^^xsd:integer;\n",
    "              :hasDriver ?driver.\n",
    "    ?driver a :Driver;\n",
    "            :hasForename ?fname;\n",
    "            :hasSurname ?sname.\n",
    "    BIND(CONCAT(?fname, \" \", ?sname) AS ?name).\n",
    "}"
   ]
  },
  {
   "cell_type": "markdown",
   "id": "b681f9c3",
   "metadata": {},
   "source": [
    "# 12: Name of all the drivers who won a Monza grand prix"
   ]
  },
  {
   "cell_type": "code",
   "execution_count": null,
   "id": "310b084d",
   "metadata": {},
   "outputs": [],
   "source": [
    "PREFIX : <https://www.dei.unipd.it/db2/groupProject/FASTianF1#>\n",
    "PREFIX xsd: <http://www.w3.org/2001/XMLSchema#>\n",
    "SELECT ?name WHERE { \n",
    "    ?race :hasCircuit ?circuit;\n",
    "          a :Race.\n",
    "    ?circuit :hasName \"Autodromo Nazionale di Monza\";\n",
    "             a :Circuit.\n",
    "    ?racePart :partecipatedInRace ?race;\n",
    "              :hasPositionOrder \"1\"^^xsd:integer;\n",
    "              :hasDriver ?driver.\n",
    "    ?driver a :Driver;\n",
    "            :hasForename ?fname;\n",
    "            :hasSurname ?sname.\n",
    "    BIND(CONCAT(?fname, \" \", ?sname) AS ?name).\n",
    "} GROUP BY (?name)"
   ]
  },
  {
   "cell_type": "markdown",
   "id": "2c3477b0",
   "metadata": {},
   "source": [
    "# 13.1: All the drivers who won a Monza grand prix, ordered by number of wins"
   ]
  },
  {
   "cell_type": "code",
   "execution_count": null,
   "id": "cb057d90",
   "metadata": {},
   "outputs": [],
   "source": [
    "PREFIX : <https://www.dei.unipd.it/db2/groupProject/FASTianF1#>\n",
    "PREFIX xsd: <http://www.w3.org/2001/XMLSchema#>\n",
    "SELECT ?name (COUNT(?name) as ?numOfWins) WHERE { \n",
    "    ?race :hasCircuit ?circuit;\n",
    "          a :Race.\n",
    "    ?circuit :hasName \"Autodromo Nazionale di Monza\";\n",
    "             a :Circuit.\n",
    "    ?racePart :partecipatedInRace ?race;\n",
    "              :hasPositionOrder \"1\"^^xsd:integer;\n",
    "              :hasDriver ?driver.\n",
    "    ?driver a :Driver;\n",
    "            :hasForename ?fname;\n",
    "            :hasSurname ?sname.\n",
    "    BIND(CONCAT(?fname, \" \", ?sname) AS ?name).\n",
    "} GROUP BY (?name)\n",
    "ORDER BY DESC (?numOfWins)"
   ]
  },
  {
   "cell_type": "markdown",
   "id": "628a99f2",
   "metadata": {},
   "source": [
    "# 13.2: All the drivers who won an Imola grand prix, ordered by number of wins"
   ]
  },
  {
   "cell_type": "code",
   "execution_count": null,
   "id": "efb430bb",
   "metadata": {},
   "outputs": [],
   "source": [
    "PREFIX : <https://www.dei.unipd.it/db2/groupProject/FASTianF1#>\n",
    "PREFIX xsd: <http://www.w3.org/2001/XMLSchema#>\n",
    "SELECT ?name (COUNT(?name) as ?numOfWins) WHERE { \n",
    "    ?race :hasCircuit ?circuit;\n",
    "          a :Race.\n",
    "    ?circuit :hasName \"Autodromo Enzo e Dino Ferrari\";\n",
    "             a :Circuit.\n",
    "    ?racePart :partecipatedInRace ?race;\n",
    "              :hasPositionOrder \"1\"^^xsd:integer;\n",
    "              :hasDriver ?driver.\n",
    "    ?driver a :Driver;\n",
    "            :hasForename ?fname;\n",
    "            :hasSurname ?sname.\n",
    "    BIND(CONCAT(?fname, \" \", ?sname) AS ?name).\n",
    "} GROUP BY (?name)\n",
    "ORDER BY DESC (?numOfWins)"
   ]
  },
  {
   "cell_type": "markdown",
   "id": "a70f06c0",
   "metadata": {},
   "source": [
    "# 14.1: All the drivers who won an italian grand prix, ordered by number of wins"
   ]
  },
  {
   "cell_type": "code",
   "execution_count": null,
   "id": "ecbe0872",
   "metadata": {},
   "outputs": [],
   "source": [
    "PREFIX : <https://www.dei.unipd.it/db2/groupProject/FASTianF1#>\n",
    "PREFIX xsd: <http://www.w3.org/2001/XMLSchema#>\n",
    "PREFIX countries: <http://eulersharp.sourceforge.net/2003/03swap/countries#>\n",
    "SELECT ?name (COUNT(?name) as ?numOfWins) WHERE { \n",
    "    ?race :hasCircuit ?circuit;\n",
    "          a :Race.\n",
    "    ?circuit :hasLocation ?location;\n",
    "             a :Circuit.\n",
    "    ?location :hasCountry countries:it;\n",
    "              a :Location.\n",
    "    ?racePart :partecipatedInRace ?race;\n",
    "              :hasPositionOrder \"1\"^^xsd:integer;\n",
    "              :hasDriver ?driver.\n",
    "    ?driver a :Driver;\n",
    "            :hasForename ?fname;\n",
    "            :hasSurname ?sname.\n",
    "    BIND(CONCAT(?fname, \" \", ?sname) AS ?name).\n",
    "} GROUP BY (?name)\n",
    "ORDER BY DESC (?numOfWins)"
   ]
  },
  {
   "cell_type": "markdown",
   "id": "5cdbf0c8",
   "metadata": {},
   "source": [
    "# 14.2: All the italian drivers who won an italian grand prix, ordered by number of wins"
   ]
  },
  {
   "cell_type": "code",
   "execution_count": null,
   "id": "b6b3df34",
   "metadata": {},
   "outputs": [],
   "source": [
    "PREFIX : <https://www.dei.unipd.it/db2/groupProject/FASTianF1#>\n",
    "PREFIX xsd: <http://www.w3.org/2001/XMLSchema#>\n",
    "PREFIX countries: <http://eulersharp.sourceforge.net/2003/03swap/countries#>\n",
    "SELECT ?name (COUNT(?name) as ?numOfWins) WHERE {\n",
    "    ?race :hasCircuit ?circuit;\n",
    "          a :Race.\n",
    "    ?circuit :hasLocation ?location;\n",
    "             a :Circuit.\n",
    "    ?location :hasCountry countries:it;\n",
    "              a :Location.\n",
    "    ?racePart :partecipatedInRace ?race;\n",
    "              :hasPositionOrder \"1\"^^xsd:integer;\n",
    "              :hasDriver ?driver.\n",
    "    ?driver a :Driver;\n",
    "            :hasNation countries:it;\n",
    "            :hasForename ?fname;\n",
    "            :hasSurname ?sname.\n",
    "    BIND(CONCAT(?fname, \" \", ?sname) AS ?name).\n",
    "} GROUP BY ?name\n",
    "ORDER BY DESC (?numOfWins)"
   ]
  },
  {
   "cell_type": "markdown",
   "id": "928a49cc",
   "metadata": {},
   "source": [
    "# 14.3: All the drivers who won an italian grand prix, driving an italian car, ordered by number of wins"
   ]
  },
  {
   "cell_type": "code",
   "execution_count": null,
   "id": "79bcf50c",
   "metadata": {},
   "outputs": [],
   "source": [
    "PREFIX : <https://www.dei.unipd.it/db2/groupProject/FASTianF1#>\n",
    "PREFIX xsd: <http://www.w3.org/2001/XMLSchema#>\n",
    "PREFIX countries: <http://eulersharp.sourceforge.net/2003/03swap/countries#>\n",
    "SELECT ?name (COUNT(?name) as ?numOfWins) ?consName WHERE { \n",
    "    ?race :hasCircuit ?circuit;\n",
    "          a :Race.\n",
    "    ?circuit :hasLocation ?location;\n",
    "             a :Circuit.\n",
    "    ?location :hasCountry countries:it;\n",
    "              a :Location.\n",
    "    ?racePart :partecipatedInRace ?race;\n",
    "              :hasPositionOrder \"1\"^^xsd:integer;\n",
    "              :hasConstructor ?constructor;\n",
    "              :hasDriver ?driver.\n",
    "    ?constructor a :Constructor;\n",
    "                 :hasName ?consName;\n",
    "                 :hasNation countries:it.\n",
    "    ?driver a :Driver;\n",
    "            :hasForename ?fname;\n",
    "            :hasSurname ?sname.\n",
    "    BIND(CONCAT(?fname, \" \", ?sname) AS ?name).\n",
    "} GROUP BY ?name ?consName\n",
    "ORDER BY DESC (?numOfWins)\n"
   ]
  },
  {
   "cell_type": "markdown",
   "id": "12456e34",
   "metadata": {},
   "source": [
    "# 14.4: All the italian drivers who won an italian grand prix, driving an italian car, ordered by number of wins"
   ]
  },
  {
   "cell_type": "code",
   "execution_count": null,
   "id": "f2f37490",
   "metadata": {},
   "outputs": [],
   "source": [
    "PREFIX : <https://www.dei.unipd.it/db2/groupProject/FASTianF1#>\n",
    "PREFIX xsd: <http://www.w3.org/2001/XMLSchema#>\n",
    "PREFIX countries: <http://eulersharp.sourceforge.net/2003/03swap/countries#>\n",
    "SELECT ?name (COUNT(?name) as ?numOfWins) ?consName WHERE { \n",
    "    ?race :hasCircuit ?circuit;\n",
    "          a :Race.\n",
    "    ?circuit :hasLocation ?location;\n",
    "             a :Circuit.\n",
    "    ?location :hasCountry countries:it;\n",
    "              a :Location.\n",
    "    ?racePart :partecipatedInRace ?race;\n",
    "              :hasPositionOrder \"1\"^^xsd:integer;\n",
    "              :hasConstructor ?constructor;\n",
    "              :hasDriver ?driver.\n",
    "    ?constructor a :Constructor;\n",
    "                 :hasName ?consName;\n",
    "                 :hasNation countries:it.\n",
    "    ?driver a :Driver;\n",
    "            :hasNation countries:it;\n",
    "            :hasForename ?fname;\n",
    "            :hasSurname ?sname.\n",
    "    BIND(CONCAT(?fname, \" \", ?sname) AS ?name).\n",
    "} GROUP BY ?name ?consName\n",
    "ORDER BY DESC (?numOfWins)"
   ]
  },
  {
   "cell_type": "markdown",
   "id": "a16af928",
   "metadata": {},
   "source": [
    "# 15.1: All the english (Great Britain) drivers who won an english grand prix, ordered by number of wins"
   ]
  },
  {
   "cell_type": "code",
   "execution_count": null,
   "id": "82005358",
   "metadata": {},
   "outputs": [],
   "source": [
    "PREFIX : <https://www.dei.unipd.it/db2/groupProject/FASTianF1#>\n",
    "PREFIX xsd: <http://www.w3.org/2001/XMLSchema#>\n",
    "PREFIX countries: <http://eulersharp.sourceforge.net/2003/03swap/countries#>\n",
    "SELECT ?name (COUNT(?name) as ?numOfWins) WHERE { \n",
    "    ?race :hasCircuit ?circuit;\n",
    "          a :Race.\n",
    "    ?circuit :hasLocation ?location;\n",
    "             a :Circuit.\n",
    "    ?location :hasCountry countries:gb;\n",
    "              a :Location.\n",
    "    ?racePart :partecipatedInRace ?race;\n",
    "              :hasPositionOrder \"1\"^^xsd:integer;\n",
    "              :hasDriver ?driver.\n",
    "    ?driver a :Driver;\n",
    "            :hasNation countries:gb;\n",
    "            :hasForename ?fname;\n",
    "            :hasSurname ?sname.\n",
    "    BIND(CONCAT(?fname, \" \", ?sname) AS ?name).\n",
    "} GROUP BY ?name\n",
    "ORDER BY DESC (?numOfWins)\n"
   ]
  },
  {
   "cell_type": "markdown",
   "id": "c663c341",
   "metadata": {},
   "source": [
    "# 15.2: All the english (Great Britain) drivers who won an english grand prix, driving an english car, ordered by number of wins"
   ]
  },
  {
   "cell_type": "code",
   "execution_count": null,
   "id": "c6d21c86",
   "metadata": {},
   "outputs": [],
   "source": [
    "PREFIX : <https://www.dei.unipd.it/db2/groupProject/FASTianF1#>\n",
    "PREFIX xsd: <http://www.w3.org/2001/XMLSchema#>\n",
    "PREFIX countries: <http://eulersharp.sourceforge.net/2003/03swap/countries#>\n",
    "SELECT ?name (COUNT(?name) as ?numOfWins) ?consName WHERE { \n",
    "    ?race :hasCircuit ?circuit;\n",
    "          a :Race.\n",
    "    ?circuit :hasLocation ?location;\n",
    "             a :Circuit.\n",
    "    ?location :hasCountry countries:gb;\n",
    "              a :Location.\n",
    "    ?racePart :partecipatedInRace ?race;\n",
    "              :hasPositionOrder \"1\"^^xsd:integer;\n",
    "              :hasConstructor ?constructor;\n",
    "              :hasDriver ?driver.\n",
    "    ?constructor a :Constructor;\n",
    "                 :hasName ?consName;\n",
    "                 :hasNation countries:gb.\n",
    "    ?driver a :Driver;\n",
    "            :hasNation countries:gb;\n",
    "            :hasForename ?fname;\n",
    "            :hasSurname ?sname.\n",
    "    BIND(CONCAT(?fname, \" \", ?sname) AS ?name).\n",
    "} GROUP BY ?name ?consName\n",
    "ORDER BY DESC (?numOfWins)"
   ]
  },
  {
   "cell_type": "markdown",
   "id": "fe2f3c1b",
   "metadata": {},
   "source": [
    "# 16: The most winning italian driver in F1 history"
   ]
  },
  {
   "cell_type": "code",
   "execution_count": null,
   "id": "c52169a4",
   "metadata": {},
   "outputs": [],
   "source": [
    "PREFIX : <https://www.dei.unipd.it/db2/groupProject/FASTianF1#>\n",
    "PREFIX xsd: <http://www.w3.org/2001/XMLSchema#>\n",
    "PREFIX countries: <http://eulersharp.sourceforge.net/2003/03swap/countries#>\n",
    "SELECT ?name (COUNT(?name) as ?numOfWins) WHERE { \n",
    "    ?race :hasCircuit ?circuit;\n",
    "          a :Race.\n",
    "    ?racePart :partecipatedInRace ?race;\n",
    "              :hasPositionOrder \"1\"^^xsd:integer;\n",
    "              :hasDriver ?driver.\n",
    "    ?driver a :Driver;\n",
    "            :hasNation countries:it;\n",
    "            :hasForename ?fname;\n",
    "            :hasSurname ?sname.\n",
    "    BIND(CONCAT(?fname, \" \", ?sname) AS ?name).\n",
    "} GROUP BY ?name\n",
    "ORDER BY DESC (?numOfWins)\n",
    "LIMIT 1"
   ]
  },
  {
   "cell_type": "markdown",
   "id": "923b45e6",
   "metadata": {},
   "source": [
    "# 16.1: The 5 most winning drivers in F1 history, ordered by number of grand prix wins"
   ]
  },
  {
   "cell_type": "code",
   "execution_count": null,
   "id": "ddd887e4",
   "metadata": {},
   "outputs": [],
   "source": [
    "PREFIX : <https://www.dei.unipd.it/db2/groupProject/FASTianF1#>\n",
    "PREFIX xsd: <http://www.w3.org/2001/XMLSchema#>\n",
    "SELECT ?name (COUNT(?name) as ?numOfWins) WHERE { \n",
    "    ?race :hasCircuit ?circuit;\n",
    "          a :Race.\n",
    "    ?racePart :partecipatedInRace ?race;\n",
    "              :hasPositionOrder \"1\"^^xsd:integer;\n",
    "              :hasDriver ?driver.\n",
    "    ?driver a :Driver;\n",
    "            :hasForename ?fname;\n",
    "            :hasSurname ?sname.\n",
    "    BIND(CONCAT(?fname, \" \", ?sname) AS ?name).\n",
    "} GROUP BY ?name\n",
    "ORDER BY DESC (?numOfWins)\n",
    "LIMIT 5"
   ]
  },
  {
   "cell_type": "markdown",
   "id": "423ca78c",
   "metadata": {},
   "source": [
    "# 17.1: The name of the driver who drove the fastest lap in F1 history, the lap time and the circuit"
   ]
  },
  {
   "cell_type": "code",
   "execution_count": null,
   "id": "aba027da",
   "metadata": {},
   "outputs": [],
   "source": [
    "PREFIX : <https://www.dei.unipd.it/db2/groupProject/FASTianF1#>\n",
    "PREFIX xsd: <http://www.w3.org/2001/XMLSchema#>\n",
    "SELECT ?driversName ?lapTime ?circuitName WHERE {\n",
    "    ?racePart :hasLap ?lap;\n",
    "              :hasDriver ?driver;\n",
    "              :partecipatedInRace ?race;\n",
    "              a :RacePartecipation.\n",
    "    ?race a :Race;\n",
    "          :hasCircuit ?circ.\n",
    "    ?circ a :Circuit;\n",
    "             :hasName ?circuitName.\n",
    "    ?lap a :Lap;\n",
    "         :hasLapTime ?lapTime.\n",
    "    ?driver a :Driver;\n",
    "            :hasForename ?fname;\n",
    "            :hasSurname ?sname.\n",
    "    BIND(CONCAT(?fname, \" \", ?sname) AS ?driversName).\n",
    "} \n",
    "ORDER BY (?lapTime)\n",
    "LIMIT 1"
   ]
  },
  {
   "cell_type": "markdown",
   "id": "9cc75100",
   "metadata": {},
   "source": [
    "# 17.2: The name of the driver who drove the fastest lap in F1 history, the lap time, the circuit and the race name"
   ]
  },
  {
   "cell_type": "code",
   "execution_count": null,
   "id": "4b6336db",
   "metadata": {},
   "outputs": [],
   "source": [
    "PREFIX : <https://www.dei.unipd.it/db2/groupProject/FASTianF1#>\n",
    "PREFIX xsd: <http://www.w3.org/2001/XMLSchema#>\n",
    "SELECT ?driversName ?lapTime ?circuitName ?raceName WHERE {\n",
    "    ?racePart :hasLap ?lap;\n",
    "              :hasDriver ?driver;\n",
    "              :partecipatedInRace ?race;\n",
    "              a :RacePartecipation.\n",
    "    ?race a :Race;\n",
    "          :hasName ?raceName;\n",
    "          :hasCircuit ?circ.\n",
    "    ?circ a :Circuit;\n",
    "             :hasName ?circuitName.\n",
    "    ?lap a :Lap;\n",
    "         :hasLapTime ?lapTime.\n",
    "    ?driver a :Driver;\n",
    "            :hasForename ?fname;\n",
    "            :hasSurname ?sname.\n",
    "    BIND(CONCAT(?fname, \" \", ?sname) AS ?driversName).\n",
    "}\n",
    "ORDER BY (?lapTime)\n",
    "LIMIT 1"
   ]
  },
  {
   "cell_type": "markdown",
   "id": "6d160253",
   "metadata": {},
   "source": [
    "# 17.3: The name of the driver who drove the slowest lap in F1 history, the lap time, the circuit, the race name and the race date"
   ]
  },
  {
   "cell_type": "code",
   "execution_count": null,
   "id": "4cea98cf",
   "metadata": {},
   "outputs": [],
   "source": [
    "PREFIX : <https://www.dei.unipd.it/db2/groupProject/FASTianF1#>\n",
    "PREFIX xsd: <http://www.w3.org/2001/XMLSchema#>\n",
    "SELECT ?driversName ?lapTime ?circuitName ?raceName ?raceDate WHERE {\n",
    "    ?racePart :hasLap ?lap;\n",
    "              :hasDriver ?driver;\n",
    "              :partecipatedInRace ?race;\n",
    "              a :RacePartecipation.\n",
    "    ?race a :Race;\n",
    "          :hasName ?raceName;\n",
    "          :hasDate ?raceDate;\n",
    "          :hasCircuit ?circ.\n",
    "    ?circ a :Circuit;\n",
    "             :hasName ?circuitName.\n",
    "    ?lap a :Lap;\n",
    "         :hasLapTime ?lapTime.\n",
    "    ?driver a :Driver;\n",
    "            :hasForename ?fname;\n",
    "            :hasSurname ?sname.\n",
    "    BIND(CONCAT(?fname, \" \", ?sname) AS ?driversName).\n",
    "}\n",
    "ORDER BY DESC (?lapTime)\n",
    "LIMIT 1"
   ]
  },
  {
   "cell_type": "markdown",
   "id": "85a76f51",
   "metadata": {},
   "source": [
    "# 18.1: Data about 10 fastest laps in F1 history"
   ]
  },
  {
   "cell_type": "code",
   "execution_count": null,
   "id": "d900134c",
   "metadata": {},
   "outputs": [],
   "source": [
    "PREFIX : <https://www.dei.unipd.it/db2/groupProject/FASTianF1#>\n",
    "PREFIX xsd: <http://www.w3.org/2001/XMLSchema#>\n",
    "SELECT ?driversName ?lapTime ?circuitName ?raceName WHERE {\n",
    "    ?racePart :hasLap ?lap;\n",
    "              :hasDriver ?driver;\n",
    "              :partecipatedInRace ?race;\n",
    "              a :RacePartecipation.\n",
    "    ?race a :Race;\n",
    "          :hasName ?raceName;\n",
    "          :hasCircuit ?circ.\n",
    "    ?circ a :Circuit;\n",
    "             :hasName ?circuitName.\n",
    "    ?lap a :Lap;\n",
    "         :hasLapTime ?lapTime.\n",
    "    ?driver a :Driver;\n",
    "            :hasForename ?fname;\n",
    "            :hasSurname ?sname.\n",
    "    BIND(CONCAT(?fname, \" \", ?sname) AS ?driversName).\n",
    "}\n",
    "ORDER BY (?lapTime)\n",
    "LIMIT 10"
   ]
  },
  {
   "cell_type": "markdown",
   "id": "7a5dd8a8",
   "metadata": {},
   "source": [
    "# 18.2: Data of 10 slowest laps in F1 history"
   ]
  },
  {
   "cell_type": "code",
   "execution_count": null,
   "id": "2ca57125",
   "metadata": {},
   "outputs": [],
   "source": [
    "PREFIX : <https://www.dei.unipd.it/db2/groupProject/FASTianF1#>\n",
    "PREFIX xsd: <http://www.w3.org/2001/XMLSchema#>\n",
    "SELECT ?driversName ?lapTime ?circuitName ?raceName ?raceDate WHERE {\n",
    "    ?racePart :hasLap ?lap;\n",
    "              :hasDriver ?driver;\n",
    "              :partecipatedInRace ?race;\n",
    "              a :RacePartecipation.\n",
    "    ?race a :Race;\n",
    "          :hasName ?raceName;\n",
    "          :hasDate ?raceDate;\n",
    "          :hasCircuit ?circ.\n",
    "    ?circ a :Circuit;\n",
    "             :hasName ?circuitName.\n",
    "    ?lap a :Lap;\n",
    "         :hasLapTime ?lapTime.\n",
    "    ?driver a :Driver;\n",
    "            :hasForename ?fname;\n",
    "            :hasSurname ?sname.\n",
    "    BIND(CONCAT(?fname, \" \", ?sname) AS ?driversName).\n",
    "}\n",
    "ORDER BY DESC (?lapTime)\n",
    "LIMIT 10"
   ]
  },
  {
   "cell_type": "markdown",
   "id": "7ec238ae",
   "metadata": {},
   "source": [
    "# 19.1: Data about 10 fastest q3 laps in F1 history"
   ]
  },
  {
   "cell_type": "code",
   "execution_count": null,
   "id": "28153227",
   "metadata": {},
   "outputs": [],
   "source": [
    "PREFIX : <https://www.dei.unipd.it/db2/groupProject/FASTianF1#>\n",
    "PREFIX xsd: <http://www.w3.org/2001/XMLSchema#>\n",
    "SELECT ?driversName ?q3Time ?circuitName ?raceName WHERE {\n",
    "    ?qualPart :hasQ3Time ?q3Time;\n",
    "              :hasDriver ?driver;\n",
    "              :partecipatedInQualif ?quali;\n",
    "              a :QualifPartecipation.\n",
    "    ?quali a :Qualifying.\n",
    "    ?race a :Race;\n",
    "          :hasA ?quali;\n",
    "          :hasName ?raceName;\n",
    "          :hasCircuit ?circ.\n",
    "    ?circ a :Circuit;\n",
    "             :hasName ?circuitName.\n",
    "    ?driver a :Driver;\n",
    "            :hasForename ?fname;\n",
    "            :hasSurname ?sname.\n",
    "    BIND(CONCAT(?fname, \" \", ?sname) AS ?driversName).\n",
    "    FILTER(?q3Time != \"00:00:00\"^^xsd:time)\n",
    "}\n",
    "ORDER BY (?q3Time)\n",
    "LIMIT 10"
   ]
  },
  {
   "cell_type": "markdown",
   "id": "e7291c52",
   "metadata": {},
   "source": [
    "# 19.2: Data about 10 fastest q2 laps in F1 history"
   ]
  },
  {
   "cell_type": "code",
   "execution_count": null,
   "id": "49890f69",
   "metadata": {},
   "outputs": [],
   "source": [
    "PREFIX : <https://www.dei.unipd.it/db2/groupProject/FASTianF1#>\n",
    "PREFIX xsd: <http://www.w3.org/2001/XMLSchema#>\n",
    "SELECT ?driversName ?q2Time ?circuitName ?raceName WHERE {\n",
    "    ?qualPart :hasQ2Time ?q2Time;\n",
    "              :hasDriver ?driver;\n",
    "              :partecipatedInQualif ?quali;\n",
    "              a :QualifPartecipation.\n",
    "    ?quali a :Qualifying.\n",
    "    ?race a :Race;\n",
    "          :hasA ?quali;\n",
    "          :hasName ?raceName;\n",
    "          :hasCircuit ?circ.\n",
    "    ?circ a :Circuit;\n",
    "             :hasName ?circuitName.\n",
    "    ?driver a :Driver;\n",
    "            :hasForename ?fname;\n",
    "            :hasSurname ?sname.\n",
    "    BIND(CONCAT(?fname, \" \", ?sname) AS ?driversName).\n",
    "    FILTER(?q2Time != \"00:00:00\"^^xsd:time)\n",
    "}\n",
    "ORDER BY (?q2Time)\n",
    "LIMIT 10"
   ]
  },
  {
   "cell_type": "markdown",
   "id": "6e252c0c",
   "metadata": {},
   "source": [
    "# 19.3: Data about 10 fastest q1 laps in F1 history"
   ]
  },
  {
   "cell_type": "code",
   "execution_count": null,
   "id": "2cb7fac6",
   "metadata": {},
   "outputs": [],
   "source": [
    "PREFIX : <https://www.dei.unipd.it/db2/groupProject/FASTianF1#>\n",
    "PREFIX xsd: <http://www.w3.org/2001/XMLSchema#>\n",
    "SELECT ?driversName ?q1Time ?circuitName ?raceName WHERE {\n",
    "    ?qualPart :hasQ1Time ?q1Time;\n",
    "              :hasDriver ?driver;\n",
    "              :partecipatedInQualif ?quali;\n",
    "              a :QualifPartecipation.\n",
    "    ?quali a :Qualifying.\n",
    "    ?race a :Race;\n",
    "          :hasA ?quali;\n",
    "          :hasName ?raceName;\n",
    "          :hasCircuit ?circ.\n",
    "    ?circ a :Circuit;\n",
    "             :hasName ?circuitName.\n",
    "    ?driver a :Driver;\n",
    "            :hasForename ?fname;\n",
    "            :hasSurname ?sname.\n",
    "    BIND(CONCAT(?fname, \" \", ?sname) AS ?driversName).\n",
    "    FILTER(?q1Time != \"00:00:00\"^^xsd:time)\n",
    "}\n",
    "ORDER BY (?q1Time)\n",
    "LIMIT 10"
   ]
  },
  {
   "cell_type": "markdown",
   "id": "c60a3b73",
   "metadata": {},
   "source": [
    "# 20: Data about fastest qualifying laps in F1 history (both q1, q2 and q3)"
   ]
  },
  {
   "cell_type": "code",
   "execution_count": null,
   "id": "f6ff0b18",
   "metadata": {},
   "outputs": [],
   "source": [
    "PREFIX : <https://www.dei.unipd.it/db2/groupProject/FASTianF1#>\n",
    "PREFIX xsd: <http://www.w3.org/2001/XMLSchema#>\n",
    "SELECT ?driversName ?qTime ?circuitName ?raceName WHERE {\n",
    "    {\n",
    "        ?qualPart :hasQ3Time ?qTime.\n",
    "    }\n",
    "    UNION\n",
    "    {\n",
    "        ?qualPart :hasQ2Time ?qTime.\n",
    "    }\n",
    "    UNION\n",
    "    {\n",
    "        ?qualPart :hasQ1Time ?qTime.\n",
    "    }\n",
    "    ?qualPart :hasDriver ?driver;\n",
    "              :partecipatedInQualif ?quali;\n",
    "              a :QualifPartecipation.\n",
    "    ?quali a :Qualifying.\n",
    "    ?race a :Race;\n",
    "          :hasA ?quali;\n",
    "          :hasName ?raceName;\n",
    "          :hasCircuit ?circ.\n",
    "    ?circ a :Circuit;\n",
    "             :hasName ?circuitName.\n",
    "    ?driver a :Driver;\n",
    "            :hasForename ?fname;\n",
    "            :hasSurname ?sname.\n",
    "    BIND(CONCAT(?fname, \" \", ?sname) AS ?driversName).\n",
    "    FILTER(?qTime != \"00:00:00\"^^xsd:time)\n",
    "}\n",
    "ORDER BY (?qTime)\n",
    "LIMIT 100"
   ]
  },
  {
   "cell_type": "markdown",
   "id": "881c59bc",
   "metadata": {},
   "source": [
    "# 21.1: Data about 10 fastest pit stop in F1 history"
   ]
  },
  {
   "cell_type": "code",
   "execution_count": null,
   "id": "8ac53033",
   "metadata": {},
   "outputs": [],
   "source": [
    "PREFIX : <https://www.dei.unipd.it/db2/groupProject/FASTianF1#>\n",
    "PREFIX xsd: <http://www.w3.org/2001/XMLSchema#>\n",
    "SELECT ?driversName ?pitDuration ?circuitName ?raceName ?raceDate WHERE {\n",
    "    ?racePart :hasPitStop ?pit;\n",
    "              :hasDriver ?driver;\n",
    "              :partecipatedInRace ?race;\n",
    "              a :RacePartecipation.\n",
    "    ?race a :Race;\n",
    "          :hasName ?raceName;\n",
    "          :hasDate ?raceDate;\n",
    "          :hasCircuit ?circ.\n",
    "    ?circ a :Circuit;\n",
    "             :hasName ?circuitName.\n",
    "    ?pit a :PitStop;\n",
    "         :hasDuration ?pitDuration.\n",
    "    ?driver a :Driver;\n",
    "            :hasForename ?fname;\n",
    "            :hasSurname ?sname.\n",
    "    BIND(CONCAT(?fname, \" \", ?sname) AS ?driversName).\n",
    "}\n",
    "ORDER BY (?pitDuration)\n",
    "LIMIT 10"
   ]
  },
  {
   "cell_type": "markdown",
   "id": "556e8e95",
   "metadata": {},
   "source": [
    "# 21.2: Data about 10 slowest pit stop in F1 history"
   ]
  },
  {
   "cell_type": "code",
   "execution_count": null,
   "id": "25f6481f",
   "metadata": {},
   "outputs": [],
   "source": [
    "PREFIX : <https://www.dei.unipd.it/db2/groupProject/FASTianF1#>\n",
    "PREFIX xsd: <http://www.w3.org/2001/XMLSchema#>\n",
    "SELECT ?driversName ?pitDuration ?circuitName ?raceName ?raceDate WHERE {\n",
    "    ?racePart :hasPitStop ?pit;\n",
    "              :hasDriver ?driver;\n",
    "              :partecipatedInRace ?race;\n",
    "              a :RacePartecipation.\n",
    "    ?race a :Race;\n",
    "          :hasName ?raceName;\n",
    "          :hasDate ?raceDate;\n",
    "          :hasCircuit ?circ.\n",
    "    ?circ a :Circuit;\n",
    "             :hasName ?circuitName.\n",
    "    ?pit a :PitStop;\n",
    "         :hasDuration ?pitDuration.\n",
    "    ?driver a :Driver;\n",
    "            :hasForename ?fname;\n",
    "            :hasSurname ?sname.\n",
    "    BIND(CONCAT(?fname, \" \", ?sname) AS ?driversName).\n",
    "}\n",
    "ORDER BY DESC (?pitDuration)\n",
    "LIMIT 10"
   ]
  },
  {
   "cell_type": "markdown",
   "id": "8a74fff1",
   "metadata": {},
   "source": [
    "# 22: Name of the F1 driver with the highest number of pole position achieved"
   ]
  },
  {
   "cell_type": "code",
   "execution_count": null,
   "id": "5fcc4829",
   "metadata": {},
   "outputs": [],
   "source": [
    "PREFIX : <https://www.dei.unipd.it/db2/groupProject/FASTianF1#>\n",
    "PREFIX xsd: <http://www.w3.org/2001/XMLSchema#>\n",
    "SELECT ?driversName (COUNT(?driversName) as ?numOfPoles) WHERE {\n",
    "    ?qualiPart a :QualifPartecipation;\n",
    "               :hasPosition \"1\"^^xsd:integer;\n",
    "               :hasDriver ?driver.\n",
    "    ?driver a :Driver;\n",
    "            :hasForename ?fname;\n",
    "            :hasSurname ?sname.\n",
    "    BIND(CONCAT(?fname, \" \", ?sname) AS ?driversName).\n",
    "}\n",
    "GROUP BY (?driversName)\n",
    "ORDER BY DESC (?numOfPoles)\n",
    "LIMIT 1"
   ]
  },
  {
   "cell_type": "markdown",
   "id": "9a4322df",
   "metadata": {},
   "source": [
    "# 23: Date of the first qualifying in the dataset (volendo si potrebbe usare direttamente hasDate della qualifica)"
   ]
  },
  {
   "cell_type": "code",
   "execution_count": null,
   "id": "77abbcb5",
   "metadata": {},
   "outputs": [],
   "source": [
    "PREFIX : <https://www.dei.unipd.it/db2/groupProject/FASTianF1#>\n",
    "PREFIX xsd: <http://www.w3.org/2001/XMLSchema#>\n",
    "SELECT ?date WHERE {\n",
    "    ?qualiPart a :QualifPartecipation;\n",
    "               :partecipatedInQualif ?quali.\n",
    "    ?quali a :Qualifying.\n",
    "    ?race a :Race;\n",
    "          :hasA ?quali;\n",
    "          :hasDate ?date.\n",
    "}\n",
    "ORDER BY (?date)\n",
    "LIMIT 1"
   ]
  },
  {
   "attachments": {},
   "cell_type": "markdown",
   "id": "e6e85399",
   "metadata": {},
   "source": [
    "# 24: Constructors with most wins in the constructors' championship (edit)"
   ]
  },
  {
   "cell_type": "code",
   "execution_count": null,
   "id": "a051118e",
   "metadata": {},
   "outputs": [],
   "source": [
    "PREFIX : <https://www.dei.unipd.it/db2/groupProject/FASTianF1#>\n",
    "SELECT ?name (COUNT(?name) AS ?totalWins) (GROUP_CONCAT(DISTINCT ?outerYear ; separator=\",\") AS ?years) WHERE{\n",
    "    {\n",
    "        SELECT ?name ?race (AVG(?pos) AS ?finalPosition) ?outerYear WHERE{\n",
    "            ?part :partecipatedInRace ?race ;\n",
    "                  :hasConstructorTotalPosition ?pos ;\n",
    "                  :hasConstructor ?cons .\n",
    "            ?race :hasRound ?outerRound ;\n",
    "                  :inSeason ?outerSeason .\n",
    "            ?outerSeason :hasYear ?outerYear .\n",
    "            ?cons :hasName ?name .\n",
    "            FILTER(?outerRound = ?maxRound && ?outerYear = ?year && ?pos = 1)\n",
    "            {\n",
    "                SELECT ?year (MAX(?round) AS ?maxRound) WHERE {\n",
    "                    ?race :inSeason ?season ;\n",
    "                          :hasRound ?round .\n",
    "                    ?season :hasYear ?year .\n",
    "                }\n",
    "                GROUP BY ?year\n",
    "            }\n",
    "        }\n",
    "        GROUP BY ?name ?race ?outerYear\n",
    "    }\n",
    "}\n",
    "GROUP BY ?name\n",
    "ORDER BY DESC (?totalWins)\n"
   ]
  },
  {
   "cell_type": "markdown",
   "id": "4cc574f6",
   "metadata": {},
   "source": [
    "# 25: How many races did Leclerc end because of an accident"
   ]
  },
  {
   "cell_type": "code",
   "execution_count": null,
   "id": "f32297cd",
   "metadata": {},
   "outputs": [],
   "source": [
    "PREFIX : <https://www.dei.unipd.it/db2/groupProject/FASTianF1#>\n",
    "PREFIX xsd: <http://www.w3.org/2001/XMLSchema#>\n",
    "SELECT ?driversName (COUNT(?driversName) as ?numOfWins) WHERE {\n",
    "    ?racePart a :RacePartecipation;\n",
    "              :hasStatus ?status;\n",
    "              :hasDriver ?driver.\n",
    "    ?status a :Status;\n",
    "            :hasName \"Accident\".\n",
    "    ?driver a :Driver;\n",
    "            :hasForename ?fname;\n",
    "            :hasSurname ?sname.\n",
    "    BIND(CONCAT(?fname, \" \", ?sname) AS ?driversName).\n",
    "    FILTER (?driversName = \"Charles Leclerc\")\n",
    "}\n",
    "GROUP BY (?driversName)"
   ]
  },
  {
   "cell_type": "markdown",
   "id": "b9edb8bc",
   "metadata": {},
   "source": [
    "# 26: For each driver, the average lap time duration of Monza 2023 grand prix, ordered by duration."
   ]
  },
  {
   "cell_type": "code",
   "execution_count": null,
   "id": "8703a555",
   "metadata": {},
   "outputs": [],
   "source": [
    "PREFIX : <https://www.dei.unipd.it/db2/groupProject/FASTianF1#>\n",
    "PREFIX xsd: <http://www.w3.org/2001/XMLSchema#>\n",
    "SELECT ?driversName (AVG(?lapTime) AS ?averageLapTime) WHERE {\n",
    "    ?racePart :hasLap ?lap;\n",
    "              :hasDriver ?driver;\n",
    "              :partecipatedInRace ?race;\n",
    "              a :RacePartecipation.\n",
    "    ?race a :Race;\n",
    "          :inSeason ?season;\n",
    "          :hasCircuit ?circ.\n",
    "    ?season a :Season;\n",
    "            :hasYear \"2023\"^^xsd:integer.\n",
    "    ?circ a :Circuit;\n",
    "             :hasName \"Autodromo Nazionale di Monza\".\n",
    "    ?lap a :Lap;\n",
    "         :hasMillisecondsTime ?lapTime.\n",
    "    ?driver a :Driver;\n",
    "            :hasForename ?fname;\n",
    "            :hasSurname ?sname.\n",
    "    BIND(CONCAT(?fname, \" \", ?sname) AS ?driversName).\n",
    "} \n",
    "GROUP BY (?driversName)\n",
    "ORDER BY (?averageLapTime)"
   ]
  },
  {
   "cell_type": "markdown",
   "id": "ebe51419",
   "metadata": {},
   "source": [
    "Controllare tutte le query per cambiamenti hasRaceDate/hasRaceTime in hasDate/hasTime"
   ]
  },
  {
   "cell_type": "markdown",
   "id": "a57ac9d0",
   "metadata": {},
   "source": [
    "Controllare tutte le query per cambiamenti in Standings"
   ]
  },
  {
   "cell_type": "markdown",
   "id": "41fd80d1",
   "metadata": {},
   "source": [
    "Modificare tutte le query con (edit) alla fine del titolo"
   ]
  }
 ],
 "metadata": {
  "kernelspec": {
   "display_name": "Python 3 (ipykernel)",
   "language": "python",
   "name": "python3"
  },
  "language_info": {
   "codemirror_mode": {
    "name": "ipython",
    "version": 3
   },
   "file_extension": ".py",
   "mimetype": "text/x-python",
   "name": "python",
   "nbconvert_exporter": "python",
   "pygments_lexer": "ipython3",
   "version": "3.11.5"
  }
 },
 "nbformat": 4,
 "nbformat_minor": 5
}
